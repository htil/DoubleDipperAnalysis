{
 "cells": [
  {
   "cell_type": "code",
   "execution_count": 1,
   "metadata": {},
   "outputs": [],
   "source": [
    "import mne\n",
    "mne.set_log_level(\"CRITICAL\")\n",
    "import numpy as np\n",
    "import double_dipper\n",
    "from double_dipper.io import filePairs, partition\n",
    "from double_dipper.dataset import mapDataset\n",
    "from double_dipper.ml import cross_validation"
   ]
  },
  {
   "cell_type": "code",
   "execution_count": 2,
   "metadata": {},
   "outputs": [],
   "source": [
    "divider = lambda meta: meta[\"id\"]\n",
    "def labeller(meta):\n",
    "    strat = meta[\"strategy\"]\n",
    "    if strat is None: return None\n",
    "    if strat.lower().startswith(\"fact\"):        return 0\n",
    "    elif strat.lower().startswith(\"procedure\"): return 1\n",
    "    else:                                       return None"
   ]
  },
  {
   "cell_type": "code",
   "execution_count": 3,
   "metadata": {},
   "outputs": [],
   "source": [
    "subjNos = [i for i in range(1,11+1) if i != 5]\n",
    "pairs = filePairs(*[f\"cleaned/main/{i}\" for i in subjNos])\n",
    "dataset = partition(divider, labeller, pairs)"
   ]
  },
  {
   "cell_type": "code",
   "execution_count": 4,
   "metadata": {},
   "outputs": [],
   "source": [
    "sfreq = double_dipper.constants.sfreq\n",
    "mapDataset(lambda data: mne.filter.filter_data(data, sfreq, l_freq=1, h_freq=32), dataset)\n",
    "mapDataset(lambda data: data.reshape([data.shape[0], np.prod(data.shape[1:])]), dataset)"
   ]
  },
  {
   "cell_type": "code",
   "execution_count": 5,
   "metadata": {},
   "outputs": [
    {
     "name": "stderr",
     "output_type": "stream",
     "text": [
      "/home/elmines/git/DoubleDipperAnalysis/env/lib/python3.6/site-packages/sklearn/discriminant_analysis.py:388: UserWarning: Variables are collinear.\n",
      "  warnings.warn(\"Variables are collinear.\")\n",
      "Held out fold 1: precision = 0.26666666666666666, recall = 0.3076923076923077\n",
      "/home/elmines/git/DoubleDipperAnalysis/env/lib/python3.6/site-packages/sklearn/discriminant_analysis.py:388: UserWarning: Variables are collinear.\n",
      "  warnings.warn(\"Variables are collinear.\")\n",
      "Held out fold 2: precision = 0.23076923076923078, recall = 0.2\n",
      "/home/elmines/git/DoubleDipperAnalysis/env/lib/python3.6/site-packages/sklearn/discriminant_analysis.py:388: UserWarning: Variables are collinear.\n",
      "  warnings.warn(\"Variables are collinear.\")\n",
      "Held out fold 3: precision = 0.2972972972972973, recall = 0.3793103448275862\n",
      "/home/elmines/git/DoubleDipperAnalysis/env/lib/python3.6/site-packages/sklearn/discriminant_analysis.py:388: UserWarning: Variables are collinear.\n",
      "  warnings.warn(\"Variables are collinear.\")\n",
      "Held out fold 4: precision = 0.3142857142857143, recall = 0.2619047619047619\n",
      "/home/elmines/git/DoubleDipperAnalysis/env/lib/python3.6/site-packages/sklearn/discriminant_analysis.py:388: UserWarning: Variables are collinear.\n",
      "  warnings.warn(\"Variables are collinear.\")\n",
      "Held out fold 6: precision = 0.5185185185185185, recall = 0.35\n",
      "/home/elmines/git/DoubleDipperAnalysis/env/lib/python3.6/site-packages/sklearn/discriminant_analysis.py:388: UserWarning: Variables are collinear.\n",
      "  warnings.warn(\"Variables are collinear.\")\n",
      "Held out fold 7: precision = 0.029411764705882353, recall = 0.2\n",
      "/home/elmines/git/DoubleDipperAnalysis/env/lib/python3.6/site-packages/sklearn/discriminant_analysis.py:388: UserWarning: Variables are collinear.\n",
      "  warnings.warn(\"Variables are collinear.\")\n",
      "Held out fold 8: precision = 0.25, recall = 0.30434782608695654\n",
      "/home/elmines/git/DoubleDipperAnalysis/env/lib/python3.6/site-packages/sklearn/discriminant_analysis.py:388: UserWarning: Variables are collinear.\n",
      "  warnings.warn(\"Variables are collinear.\")\n",
      "Held out fold 9: precision = 0.5555555555555556, recall = 0.4716981132075472\n",
      "/home/elmines/git/DoubleDipperAnalysis/env/lib/python3.6/site-packages/sklearn/discriminant_analysis.py:388: UserWarning: Variables are collinear.\n",
      "  warnings.warn(\"Variables are collinear.\")\n",
      "Held out fold 10: precision = 0.5384615384615384, recall = 0.34146341463414637\n",
      "/home/elmines/git/DoubleDipperAnalysis/env/lib/python3.6/site-packages/sklearn/discriminant_analysis.py:388: UserWarning: Variables are collinear.\n",
      "  warnings.warn(\"Variables are collinear.\")\n"
     ]
    },
    {
     "name": "stdout",
     "output_type": "stream",
     "text": [
      "[0.28571429 0.21428571 0.33333333 0.28571429 0.41791045 0.05128205\n",
      " 0.2745098  0.51020408 0.41791045 0.34666667]\n"
     ]
    },
    {
     "name": "stderr",
     "output_type": "stream",
     "text": [
      "Held out fold 11: precision = 0.2653061224489796, recall = 0.5\n"
     ]
    }
   ],
   "source": [
    "(precision, recall) = cross_validation(dataset)\n",
    "f1 = 2 * (precision * recall) / (precision + recall)\n",
    "print(f1)"
   ]
  },
  {
   "cell_type": "code",
   "execution_count": null,
   "metadata": {},
   "outputs": [],
   "source": []
  }
 ],
 "metadata": {
  "kernelspec": {
   "display_name": "Python 3",
   "language": "python",
   "name": "python3"
  },
  "language_info": {
   "codemirror_mode": {
    "name": "ipython",
    "version": 3
   },
   "file_extension": ".py",
   "mimetype": "text/x-python",
   "name": "python",
   "nbconvert_exporter": "python",
   "pygments_lexer": "ipython3",
   "version": "3.6.8"
  }
 },
 "nbformat": 4,
 "nbformat_minor": 2
}
