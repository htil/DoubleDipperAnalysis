{
 "cells": [
  {
   "cell_type": "code",
   "execution_count": 1,
   "metadata": {},
   "outputs": [],
   "source": [
    "import warnings\n",
    "warnings.filterwarnings(\"ignore\", category= UserWarning)\n",
    "warnings.filterwarnings(\"ignore\", category= FutureWarning)\n",
    "warnings.filterwarnings(\"ignore\", category= RuntimeWarning)"
   ]
  },
  {
   "cell_type": "code",
   "execution_count": 2,
   "metadata": {},
   "outputs": [],
   "source": [
    "import mne\n",
    "mne.set_log_level(\"CRITICAL\")\n",
    "import numpy as np\n",
    "from sklearn.discriminant_analysis import LinearDiscriminantAnalysis\n",
    "from imblearn.over_sampling import SMOTE"
   ]
  },
  {
   "cell_type": "code",
   "execution_count": 3,
   "metadata": {},
   "outputs": [],
   "source": [
    "import double_dipper\n",
    "from double_dipper import dataset, constants, io, ml\n",
    "from double_dipper.constants import problem, strategy_prompt\n",
    "from double_dipper.features import chain, time_window, bandpass_filter, psd, flatten_end"
   ]
  },
  {
   "cell_type": "code",
   "execution_count": 4,
   "metadata": {},
   "outputs": [],
   "source": [
    "def labeller(meta):\n",
    "    strat = meta[\"strategy\"]\n",
    "    if strat is None: return None\n",
    "    if strat.lower().startswith(\"fact\"):        return 0\n",
    "    elif strat.lower().startswith(\"procedure\"): return 1\n",
    "    else:                                       return None\n",
    "divider = lambda meta: (meta[\"id\"], meta[\"epoch\"])"
   ]
  },
  {
   "cell_type": "code",
   "execution_count": 5,
   "metadata": {},
   "outputs": [],
   "source": [
    "subjNos = [i for i in range(1, 12) if i != 5]\n",
    "pairs = io.filePairs(*[f\"cleaned/main/{subjNo}\" for subjNo in subjNos])\n",
    "dset = io.partition(divider, labeller, pairs)"
   ]
  },
  {
   "cell_type": "code",
   "execution_count": 6,
   "metadata": {},
   "outputs": [],
   "source": [
    "def subj_data(subjNo):\n",
    "    subj_set = dataset.subset(lambda meta: meta[0] == subjNo, dset)\n",
    "    keys = sorted(subj_set.keys(), key=lambda k: k[1])\n",
    "    X = np.concatenate([subj_set[k][\"x\"] for k in keys], axis=0)\n",
    "    Y = np.concatenate([subj_set[k][\"y\"] for k in keys], axis=0)\n",
    "    return (X, Y)"
   ]
  },
  {
   "cell_type": "code",
   "execution_count": 7,
   "metadata": {},
   "outputs": [],
   "source": [
    "feature_selector = chain(\n",
    "    time_window(0, strategy_prompt.delay),\n",
    "    bandpass_filter(1, 45),\n",
    "    psd(1, 45, add=True),\n",
    "    flatten_end\n",
    ")"
   ]
  },
  {
   "cell_type": "code",
   "execution_count": 8,
   "metadata": {},
   "outputs": [],
   "source": [
    "mySMOTE = lambda: SMOTE(random_state=0, n_jobs=4)"
   ]
  },
  {
   "cell_type": "code",
   "execution_count": 9,
   "metadata": {},
   "outputs": [
    {
     "name": "stdout",
     "output_type": "stream",
     "text": [
      "SUBJECT 1\n",
      "precision=[1.  0.5 0.  0. ]\n",
      "recall=[0.05555556 0.14285714 0.         0.        ]\n",
      "SUBJECT 2\n",
      "precision=[0.         0.4        0.5        0.33333333]\n",
      "recall=[0.         0.125      0.08333333 0.14285714]\n",
      "SUBJECT 3\n",
      "precision=[0. 0. 0. 0.]\n",
      "recall=[0. 0. 0. 0.]\n",
      "SUBJECT 4\n",
      "precision=[0.31147541 0.5        0.4        0.5       ]\n",
      "recall=[0.61290323 0.29166667 0.22222222 0.11111111]\n",
      "SUBJECT 6\n",
      "precision=[0.30337079 0.8        0.         0.5       ]\n",
      "recall=[0.96428571 0.19047619 0.         0.1       ]\n",
      "SUBJECT 7\n",
      "precision=[0. 0. 0. 0.]\n",
      "recall=[0. 0. 0. 0.]\n",
      "SUBJECT 8\n",
      "precision=[0. 0. 0. 0.]\n",
      "recall=[0. 0. 0. 0.]\n",
      "SUBJECT 9\n",
      "precision=[0.37931034 0.5        0.6        0.5       ]\n",
      "recall=[0.26190476 0.29032258 0.27272727 0.36363636]\n",
      "SUBJECT 10\n",
      "precision=[0.38461538 0.7        0.6        0.5       ]\n",
      "recall=[0.32258065 0.29166667 0.35294118 0.5       ]\n",
      "SUBJECT 11\n",
      "precision=[0.  0.5 0.  0. ]\n",
      "recall=[0.         0.07692308 0.         0.        ]\n"
     ]
    }
   ],
   "source": [
    "splits = [.2, .4,.6, .8]\n",
    "zeros = lambda: np.zeros([len(subjNos), len(splits)])\n",
    "prec = zeros()\n",
    "rec = zeros()\n",
    "f1  = zeros()\n",
    "for (i, subjNo) in enumerate(subjNos):\n",
    "    print(f\"SUBJECT {subjNo}\")\n",
    "    (X, Y) = subj_data(subjNo)\n",
    "    X = feature_selector(X)\n",
    "    (prec[i, :], rec[i,:]) = ml.temporal_cross_validation(X, Y,\n",
    "                                                resampler=mySMOTE,\n",
    "                                                model=LinearDiscriminantAnalysis,\n",
    "                                                splits=splits)\n",
    "    print(f\"precision={prec[i, :]}\")\n",
    "    print(f\"recall={rec[i, :]}\")"
   ]
  },
  {
   "cell_type": "code",
   "execution_count": null,
   "metadata": {},
   "outputs": [],
   "source": []
  }
 ],
 "metadata": {
  "kernelspec": {
   "display_name": "Python 3",
   "language": "python",
   "name": "python3"
  },
  "language_info": {
   "codemirror_mode": {
    "name": "ipython",
    "version": 3
   },
   "file_extension": ".py",
   "mimetype": "text/x-python",
   "name": "python",
   "nbconvert_exporter": "python",
   "pygments_lexer": "ipython3",
   "version": "3.6.9"
  }
 },
 "nbformat": 4,
 "nbformat_minor": 2
}
