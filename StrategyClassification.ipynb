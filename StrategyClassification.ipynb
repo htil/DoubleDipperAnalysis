{
 "cells": [
  {
   "cell_type": "code",
   "execution_count": 1,
   "metadata": {},
   "outputs": [],
   "source": [
    "import warnings\n",
    "warnings.filterwarnings(\"ignore\", category= UserWarning)\n",
    "warnings.filterwarnings(\"ignore\", category= FutureWarning)\n",
    "warnings.filterwarnings(\"ignore\", category= RuntimeWarning)"
   ]
  },
  {
   "cell_type": "code",
   "execution_count": 2,
   "metadata": {},
   "outputs": [],
   "source": [
    "import mne\n",
    "mne.set_log_level(\"CRITICAL\")\n",
    "import numpy as np\n",
    "import double_dipper\n",
    "from double_dipper import dataset, constants, io, ml\n",
    "from double_dipper.constants import problem, strategy_prompt"
   ]
  },
  {
   "cell_type": "code",
   "execution_count": 3,
   "metadata": {},
   "outputs": [],
   "source": [
    "from functools import reduce\n",
    "def chain(*functions):\n",
    "    def chained(args):\n",
    "        for fn in functions:\n",
    "            args = fn(args)\n",
    "        return args\n",
    "    return chained"
   ]
  },
  {
   "cell_type": "code",
   "execution_count": 4,
   "metadata": {},
   "outputs": [],
   "source": [
    "def labeller(meta):\n",
    "    strat = meta[\"strategy\"]\n",
    "    if strat is None: return None\n",
    "    if strat.lower().startswith(\"fact\"):        return 0\n",
    "    elif strat.lower().startswith(\"procedure\"): return 1\n",
    "    else:                                       return None\n",
    "divider = lambda meta: meta[\"epoch\"]"
   ]
  },
  {
   "cell_type": "code",
   "execution_count": 5,
   "metadata": {},
   "outputs": [],
   "source": [
    "def gen_dset(subjNo, split=.7):\n",
    "    pairs = io.filePairs(f\"cleaned/main/{subjNo}\")\n",
    "    dset = io.partition(divider, labeller, pairs)\n",
    "    keys = sorted(dset.keys())\n",
    "    X = np.concatenate([dset[k][\"x\"] for k in keys], axis = 0)\n",
    "    Y = np.concatenate([dset[k][\"y\"] for k in keys], axis = 0)\n",
    "    split_ind = int(len(X) * split)\n",
    "    (trainX, testX) = (X[:split_ind], X[split_ind:])\n",
    "    (trainY, testY) = (Y[:split_ind], Y[split_ind:])\n",
    "    return (trainX, trainY, testX, testY)"
   ]
  },
  {
   "cell_type": "code",
   "execution_count": 6,
   "metadata": {},
   "outputs": [],
   "source": [
    "SUBJ_NO = 10\n",
    "(trX, trY, tsX, tsY) = gen_dset(SUBJ_NO)"
   ]
  },
  {
   "cell_type": "code",
   "execution_count": 7,
   "metadata": {},
   "outputs": [],
   "source": [
    "def problem_window(X):\n",
    "    firstSample = problem.delay * constants.sfreq\n",
    "    lastSample = strategy_prompt.delay * constants.sfreq\n",
    "    return X[...,firstSample:lastSample]"
   ]
  },
  {
   "cell_type": "code",
   "execution_count": 8,
   "metadata": {},
   "outputs": [],
   "source": [
    "def bandpass_filt(X):\n",
    "    return mne.filter.filter_data(X, constants.sfreq, l_freq=1, h_freq=32)"
   ]
  },
  {
   "cell_type": "code",
   "execution_count": 9,
   "metadata": {},
   "outputs": [],
   "source": [
    "def flatten_end(X):\n",
    "    return X.reshape([X.shape[0], np.prod(X.shape[1:])])"
   ]
  },
  {
   "cell_type": "code",
   "execution_count": 15,
   "metadata": {},
   "outputs": [],
   "source": [
    "from sklearn.discriminant_analysis import LinearDiscriminantAnalysis, QuadraticDiscriminantAnalysis\n",
    "from imblearn.over_sampling import ADASYN, SMOTE\n",
    "feature_selectors = [flatten_end,\n",
    "                     chain(bandpass_filt, flatten_end),\n",
    "                     chain(bandpass_filt, problem_window, flatten_end)\n",
    "]\n",
    "models = [LinearDiscriminantAnalysis, QuadraticDiscriminantAnalysis]\n",
    "resamplers = [None, lambda: SMOTE(n_jobs=4), lambda: ADASYN(n_jobs=4)]"
   ]
  },
  {
   "cell_type": "code",
   "execution_count": 16,
   "metadata": {},
   "outputs": [
    {
     "name": "stdout",
     "output_type": "stream",
     "text": [
      "feature_selector=0,resampler=0,model=0: \tprecision=0.333, recall=0.167, f1=0.167\n",
      "New best achieved\n",
      "\n",
      "feature_selector=1,resampler=0,model=0: \tprecision=0.467, recall=0.583, f1=0.583\n",
      "New best achieved\n",
      "\n",
      "feature_selector=2,resampler=0,model=0: \tprecision=0.250, recall=0.250, f1=0.250\n",
      "\n"
     ]
    },
    {
     "name": "stderr",
     "output_type": "stream",
     "text": [
      "/home/elmines/git/DoubleDipperAnalysis/double_dipper/ml.py:68: RuntimeWarning: invalid value encountered in long_scalars\n",
      "  prec = conf[1, 1] / np.sum(conf[:, 1])\n"
     ]
    },
    {
     "name": "stdout",
     "output_type": "stream",
     "text": [
      "feature_selector=0,resampler=1,model=0: \tprecision=nan, recall=0.000, f1=nan\n",
      "\n",
      "feature_selector=1,resampler=1,model=0: \tprecision=0.375, recall=0.500, f1=0.500\n",
      "\n"
     ]
    },
    {
     "name": "stderr",
     "output_type": "stream",
     "text": [
      "/home/elmines/git/DoubleDipperAnalysis/double_dipper/ml.py:68: RuntimeWarning: invalid value encountered in long_scalars\n",
      "  prec = conf[1, 1] / np.sum(conf[:, 1])\n"
     ]
    },
    {
     "name": "stdout",
     "output_type": "stream",
     "text": [
      "feature_selector=2,resampler=1,model=0: \tprecision=nan, recall=0.000, f1=nan\n",
      "\n",
      "feature_selector=0,resampler=2,model=0: \tprecision=0.500, recall=0.250, f1=0.250\n",
      "\n",
      "feature_selector=1,resampler=2,model=0: \tprecision=0.350, recall=0.583, f1=0.583\n",
      "\n",
      "feature_selector=2,resampler=2,model=0: \tprecision=0.333, recall=0.250, f1=0.250\n",
      "\n"
     ]
    },
    {
     "name": "stderr",
     "output_type": "stream",
     "text": [
      "/home/elmines/git/DoubleDipperAnalysis/double_dipper/ml.py:68: RuntimeWarning: invalid value encountered in long_scalars\n",
      "  prec = conf[1, 1] / np.sum(conf[:, 1])\n"
     ]
    },
    {
     "name": "stdout",
     "output_type": "stream",
     "text": [
      "feature_selector=0,resampler=0,model=1: \tprecision=nan, recall=0.000, f1=nan\n",
      "\n",
      "feature_selector=1,resampler=0,model=1: \tprecision=0.538, recall=0.583, f1=0.583\n",
      "\n"
     ]
    },
    {
     "name": "stderr",
     "output_type": "stream",
     "text": [
      "/home/elmines/git/DoubleDipperAnalysis/double_dipper/ml.py:68: RuntimeWarning: invalid value encountered in long_scalars\n",
      "  prec = conf[1, 1] / np.sum(conf[:, 1])\n"
     ]
    },
    {
     "name": "stdout",
     "output_type": "stream",
     "text": [
      "feature_selector=2,resampler=0,model=1: \tprecision=nan, recall=0.000, f1=nan\n",
      "\n",
      "feature_selector=0,resampler=1,model=1: \tprecision=0.125, recall=0.083, f1=0.083\n",
      "\n",
      "feature_selector=1,resampler=1,model=1: \tprecision=0.333, recall=0.417, f1=0.417\n",
      "\n",
      "feature_selector=2,resampler=1,model=1: \tprecision=0.231, recall=0.250, f1=0.250\n",
      "\n"
     ]
    },
    {
     "name": "stderr",
     "output_type": "stream",
     "text": [
      "/home/elmines/git/DoubleDipperAnalysis/double_dipper/ml.py:68: RuntimeWarning: invalid value encountered in long_scalars\n",
      "  prec = conf[1, 1] / np.sum(conf[:, 1])\n"
     ]
    },
    {
     "name": "stdout",
     "output_type": "stream",
     "text": [
      "feature_selector=0,resampler=2,model=1: \tprecision=nan, recall=0.000, f1=nan\n",
      "\n",
      "feature_selector=1,resampler=2,model=1: \tprecision=0.273, recall=0.250, f1=0.250\n",
      "\n",
      "feature_selector=2,resampler=2,model=1: \tprecision=nan, recall=0.000, f1=nan\n",
      "\n"
     ]
    },
    {
     "name": "stderr",
     "output_type": "stream",
     "text": [
      "/home/elmines/git/DoubleDipperAnalysis/double_dipper/ml.py:68: RuntimeWarning: invalid value encountered in long_scalars\n",
      "  prec = conf[1, 1] / np.sum(conf[:, 1])\n"
     ]
    }
   ],
   "source": [
    "(inds, conf) = ml.grid_search(trX, trY, tsX, tsY, feature_selectors, resamplers, models)"
   ]
  },
  {
   "cell_type": "code",
   "execution_count": null,
   "metadata": {},
   "outputs": [],
   "source": []
  }
 ],
 "metadata": {
  "kernelspec": {
   "display_name": "Python 3",
   "language": "python",
   "name": "python3"
  },
  "language_info": {
   "codemirror_mode": {
    "name": "ipython",
    "version": 3
   },
   "file_extension": ".py",
   "mimetype": "text/x-python",
   "name": "python",
   "nbconvert_exporter": "python",
   "pygments_lexer": "ipython3",
   "version": "3.6.9"
  }
 },
 "nbformat": 4,
 "nbformat_minor": 2
}
