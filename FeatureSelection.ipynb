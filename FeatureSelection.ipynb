{
 "cells": [
  {
   "cell_type": "code",
   "execution_count": 2,
   "metadata": {},
   "outputs": [],
   "source": [
    "import warnings\n",
    "warnings.filterwarnings(\"ignore\", category= UserWarning)\n",
    "warnings.filterwarnings(\"ignore\", category= FutureWarning)\n",
    "warnings.filterwarnings(\"ignore\", category= RuntimeWarning)"
   ]
  },
  {
   "cell_type": "code",
   "execution_count": 3,
   "metadata": {},
   "outputs": [],
   "source": [
    "import mne\n",
    "mne.set_log_level(\"CRITICAL\")\n",
    "import numpy as np\n",
    "import double_dipper\n",
    "from double_dipper import dataset, constants, io, ml\n",
    "from double_dipper.constants import problem, strategy_prompt"
   ]
  },
  {
   "cell_type": "code",
   "execution_count": 4,
   "metadata": {},
   "outputs": [],
   "source": [
    "from functools import reduce\n",
    "def chain(*functions):\n",
    "    def chained(args):\n",
    "        for fn in functions:\n",
    "            args = fn(args)\n",
    "        return args\n",
    "    return chained"
   ]
  },
  {
   "cell_type": "code",
   "execution_count": 5,
   "metadata": {},
   "outputs": [],
   "source": [
    "def labeller(meta):\n",
    "    strat = meta[\"strategy\"]\n",
    "    if strat is None: return None\n",
    "    if strat.lower().startswith(\"fact\"):        return 0\n",
    "    elif strat.lower().startswith(\"procedure\"): return 1\n",
    "    else:                                       return None\n",
    "divider = lambda meta: meta[\"epoch\"]"
   ]
  },
  {
   "cell_type": "code",
   "execution_count": 6,
   "metadata": {},
   "outputs": [],
   "source": [
    "def gen_dset(subjNo, split=.7):\n",
    "    pairs = io.filePairs(f\"cleaned/main/{subjNo}\")\n",
    "    dset = io.partition(divider, labeller, pairs)\n",
    "    keys = sorted(dset.keys())\n",
    "    X = np.concatenate([dset[k][\"x\"] for k in keys], axis = 0)\n",
    "    Y = np.concatenate([dset[k][\"y\"] for k in keys], axis = 0)\n",
    "    split_ind = int(len(X) * split)\n",
    "    (trainX, testX) = (X[:split_ind], X[split_ind:])\n",
    "    (trainY, testY) = (Y[:split_ind], Y[split_ind:])\n",
    "    return (trainX, trainY, testX, testY)"
   ]
  },
  {
   "cell_type": "code",
   "execution_count": 7,
   "metadata": {},
   "outputs": [],
   "source": [
    "SUBJ_NO = 10\n",
    "(trX, trY, tsX, tsY) = gen_dset(SUBJ_NO, .66)"
   ]
  },
  {
   "cell_type": "code",
   "execution_count": 8,
   "metadata": {},
   "outputs": [],
   "source": [
    "def problem_window(startTime, endTime):\n",
    "    firstSample = problem.delay * constants.sfreq\n",
    "    lastSample = strategy_prompt.delay * constants.sfreq\n",
    "    return lambda X: X[...,firstSample:lastSample]"
   ]
  },
  {
   "cell_type": "code",
   "execution_count": 9,
   "metadata": {},
   "outputs": [],
   "source": [
    "def bandpass_filter(l_freq, h_freq):\n",
    "    return lambda X: mne.filter.filter_data(X, constants.sfreq, l_freq=l_freq, h_freq=h_freq)"
   ]
  },
  {
   "cell_type": "code",
   "execution_count": 10,
   "metadata": {},
   "outputs": [],
   "source": [
    "def only_psd(fmin=0, fmax=np.inf, tmin=None, tmax=None, psd_comp=None):\n",
    "    if not psd_comp:\n",
    "        psd_comp = mne.time_frequency.psd_welch\n",
    "    def psd_func(X):\n",
    "        raw = mne.EpochsArray(X, constants.info)\n",
    "        (psds, freqs) = psd_comp(raw, fmin, fmax, tmin, tmax)\n",
    "        return psds\n",
    "    return psd_func"
   ]
  },
  {
   "cell_type": "code",
   "execution_count": 11,
   "metadata": {},
   "outputs": [],
   "source": [
    "def add_psd(*args, **kwargs):\n",
    "    psd_func = only_psd(*args, **kwargs)\n",
    "    return lambda X: np.concatenate([X, psd_func(X)], axis=-1)"
   ]
  },
  {
   "cell_type": "code",
   "execution_count": 40,
   "metadata": {},
   "outputs": [],
   "source": [
    "def add_psd_bands(psd_comp=None):\n",
    "    bands = np.array([\n",
    "        [1, 3], #Delta\n",
    "        [4, 7], #Theta\n",
    "        [8, 11], #Alpha\n",
    "        [12, 29], #Beta\n",
    "        [30, 45]  #Gamma\n",
    "    ])\n",
    "    psd_func = only_psd(fmin=np.min(bands), fmax=np.max(bands), psd_comp=psd_comp)\n",
    "    def band_func(X):\n",
    "        psds = psd_func(X)\n",
    "        band_powers = np.zeros([X.shape[0], bands.shape[0]])\n",
    "        for (i, (l_freq, h_freq)) in enumerate(bands):\n",
    "            band_powers[:, i] = np.sum(bands[:, l_freq-1:h_freq-1])\n",
    "        X = flatten_end(X)\n",
    "        return np.concatenate([X, band_powers], axis=-1)\n",
    "    return band_func"
   ]
  },
  {
   "cell_type": "code",
   "execution_count": 13,
   "metadata": {},
   "outputs": [],
   "source": [
    "def flatten_end(X):\n",
    "    return X.reshape([X.shape[0], np.prod(X.shape[1:])])"
   ]
  },
  {
   "cell_type": "code",
   "execution_count": 14,
   "metadata": {},
   "outputs": [],
   "source": [
    "from imblearn.over_sampling import ADASYN, SMOTE\n",
    "myADASYN = lambda: ADASYN(random_state=0, n_jobs=4)\n",
    "mySMOTE = lambda: SMOTE(random_state=0, n_jobs=4)"
   ]
  },
  {
   "cell_type": "markdown",
   "metadata": {},
   "source": [
    "## First Pass"
   ]
  },
  {
   "cell_type": "code",
   "execution_count": 15,
   "metadata": {},
   "outputs": [],
   "source": [
    "from sklearn.discriminant_analysis import LinearDiscriminantAnalysis, QuadraticDiscriminantAnalysis"
   ]
  },
  {
   "cell_type": "code",
   "execution_count": 16,
   "metadata": {},
   "outputs": [],
   "source": [
    "feature_selectors = [\n",
    "    bandpass_filter(1,32),\n",
    "    chain(\n",
    "        bandpass_filter(1,32),\n",
    "        add_psd(1,32)\n",
    "    ),\n",
    "    chain(\n",
    "        bandpass_filter(1,32),\n",
    "        only_psd(1,32),\n",
    "    ),\n",
    "]\n",
    "for i in range(len(feature_selectors)):\n",
    "    oldFunc = feature_selectors[i]\n",
    "    feature_selectors[i] = chain(problem_window(0,strategy_prompt.delay), oldFunc, flatten_end)\n",
    "\n",
    "models = [LinearDiscriminantAnalysis, QuadraticDiscriminantAnalysis]\n",
    "resamplers = [None, mySMOTE, myADASYN]"
   ]
  },
  {
   "cell_type": "code",
   "execution_count": 17,
   "metadata": {},
   "outputs": [
    {
     "name": "stdout",
     "output_type": "stream",
     "text": [
      "feature_selector=0,resampler=0,model=0: \tprecision=0.462, recall=0.429, f1=0.444\n",
      "New best achieved\n",
      "\n",
      "feature_selector=1,resampler=0,model=0: \tprecision=0.333, recall=0.286, f1=0.308\n",
      "\n",
      "feature_selector=2,resampler=0,model=0: \tprecision=0.471, recall=0.571, f1=0.516\n",
      "New best achieved\n",
      "\n",
      "feature_selector=0,resampler=1,model=0: \tprecision=nan, recall=0.000, f1=nan\n",
      "\n",
      "feature_selector=1,resampler=1,model=0: \tprecision=0.429, recall=0.429, f1=0.429\n",
      "\n",
      "feature_selector=2,resampler=1,model=0: \tprecision=nan, recall=0.000, f1=nan\n",
      "\n",
      "feature_selector=0,resampler=2,model=0: \tprecision=0.500, recall=0.500, f1=0.500\n",
      "\n",
      "feature_selector=1,resampler=2,model=0: \tprecision=0.360, recall=0.643, f1=0.462\n",
      "\n",
      "feature_selector=2,resampler=2,model=0: \tprecision=0.471, recall=0.571, f1=0.516\n",
      "\n",
      "feature_selector=0,resampler=0,model=1: \tprecision=nan, recall=0.000, f1=nan\n",
      "\n",
      "feature_selector=1,resampler=0,model=1: \tprecision=0.429, recall=0.429, f1=0.429\n",
      "\n",
      "feature_selector=2,resampler=0,model=1: \tprecision=nan, recall=0.000, f1=nan\n",
      "\n",
      "feature_selector=0,resampler=1,model=1: \tprecision=0.364, recall=0.571, f1=0.444\n",
      "\n",
      "feature_selector=1,resampler=1,model=1: \tprecision=0.391, recall=0.643, f1=0.486\n",
      "\n",
      "feature_selector=2,resampler=1,model=1: \tprecision=0.333, recall=0.571, f1=0.421\n",
      "\n",
      "feature_selector=0,resampler=2,model=1: \tprecision=0.333, recall=0.071, f1=0.118\n",
      "\n",
      "feature_selector=1,resampler=2,model=1: \tprecision=0.318, recall=0.500, f1=0.389\n",
      "\n",
      "feature_selector=2,resampler=2,model=1: \tprecision=0.333, recall=0.071, f1=0.118\n",
      "\n"
     ]
    }
   ],
   "source": [
    "(inds, conf) = ml.grid_search(trX, trY, tsX, tsY, feature_selectors, resamplers, models)"
   ]
  },
  {
   "cell_type": "markdown",
   "metadata": {},
   "source": [
    "The PSD features seem to help, so we'll try to figure whether we need to only use them or use them with temporal features."
   ]
  },
  {
   "cell_type": "markdown",
   "metadata": {},
   "source": [
    "## Second Pass"
   ]
  },
  {
   "cell_type": "code",
   "execution_count": 18,
   "metadata": {},
   "outputs": [],
   "source": [
    "feature_selectors = [\n",
    "    chain(\n",
    "        bandpass_filter(1,32),\n",
    "        add_psd(1,32)\n",
    "    ),\n",
    "    chain(\n",
    "        bandpass_filter(1,32),\n",
    "        only_psd(1,32),\n",
    "    ),\n",
    "    chain(\n",
    "        bandpass_filter(1,32),\n",
    "        add_psd()\n",
    "    ),\n",
    "    chain(\n",
    "        bandpass_filter(1,32),\n",
    "        only_psd(),\n",
    "    ),\n",
    "]\n",
    "for i in range(len(feature_selectors)):\n",
    "    oldFunc = feature_selectors[i]\n",
    "    feature_selectors[i] = chain(problem_window(0,strategy_prompt.delay), oldFunc, flatten_end)\n",
    "\n",
    "models = [LinearDiscriminantAnalysis, QuadraticDiscriminantAnalysis]\n",
    "resamplers = [None, mySMOTE, myADASYN]"
   ]
  },
  {
   "cell_type": "code",
   "execution_count": 19,
   "metadata": {},
   "outputs": [
    {
     "name": "stdout",
     "output_type": "stream",
     "text": [
      "feature_selector=0,resampler=0,model=0: \tprecision=0.500, recall=0.500, f1=0.500\n",
      "New best achieved\n",
      "\n",
      "feature_selector=1,resampler=0,model=0: \tprecision=0.360, recall=0.643, f1=0.462\n",
      "\n",
      "feature_selector=2,resampler=0,model=0: \tprecision=0.471, recall=0.571, f1=0.516\n",
      "New best achieved\n",
      "\n",
      "feature_selector=3,resampler=0,model=0: \tprecision=nan, recall=0.000, f1=nan\n",
      "\n",
      "feature_selector=0,resampler=1,model=0: \tprecision=0.429, recall=0.429, f1=0.429\n",
      "\n",
      "feature_selector=1,resampler=1,model=0: \tprecision=nan, recall=0.000, f1=nan\n",
      "\n",
      "feature_selector=2,resampler=1,model=0: \tprecision=0.364, recall=0.571, f1=0.444\n",
      "\n",
      "feature_selector=3,resampler=1,model=0: \tprecision=0.391, recall=0.643, f1=0.486\n",
      "\n",
      "feature_selector=0,resampler=2,model=0: \tprecision=0.333, recall=0.571, f1=0.421\n",
      "\n",
      "feature_selector=1,resampler=2,model=0: \tprecision=0.333, recall=0.071, f1=0.118\n",
      "\n",
      "feature_selector=2,resampler=2,model=0: \tprecision=0.318, recall=0.500, f1=0.389\n",
      "\n",
      "feature_selector=3,resampler=2,model=0: \tprecision=0.333, recall=0.071, f1=0.118\n",
      "\n",
      "feature_selector=0,resampler=0,model=1: \tprecision=0.500, recall=0.500, f1=0.500\n",
      "\n",
      "feature_selector=1,resampler=0,model=1: \tprecision=0.348, recall=0.571, f1=0.432\n",
      "\n",
      "feature_selector=2,resampler=0,model=1: \tprecision=0.500, recall=0.571, f1=0.533\n",
      "New best achieved\n",
      "\n",
      "feature_selector=3,resampler=0,model=1: \tprecision=nan, recall=0.000, f1=nan\n",
      "\n",
      "feature_selector=0,resampler=1,model=1: \tprecision=0.429, recall=0.429, f1=0.429\n",
      "\n",
      "feature_selector=1,resampler=1,model=1: \tprecision=nan, recall=0.000, f1=nan\n",
      "\n",
      "feature_selector=2,resampler=1,model=1: \tprecision=0.333, recall=0.357, f1=0.345\n",
      "\n",
      "feature_selector=3,resampler=1,model=1: \tprecision=0.394, recall=0.929, f1=0.553\n",
      "New best achieved\n",
      "\n",
      "feature_selector=0,resampler=2,model=1: \tprecision=0.312, recall=0.357, f1=0.333\n",
      "\n",
      "feature_selector=1,resampler=2,model=1: \tprecision=0.000, recall=0.000, f1=nan\n",
      "\n",
      "feature_selector=2,resampler=2,model=1: \tprecision=0.333, recall=0.429, f1=0.375\n",
      "\n",
      "feature_selector=3,resampler=2,model=1: \tprecision=0.000, recall=0.000, f1=nan\n",
      "\n"
     ]
    }
   ],
   "source": [
    "(inds, conf) = ml.grid_search(trX, trY, tsX, tsY, feature_selectors, resamplers, models)"
   ]
  },
  {
   "cell_type": "markdown",
   "metadata": {},
   "source": [
    "Not restricting the PSD range doesn't make much of a difference, so going forward we restrict the range."
   ]
  },
  {
   "cell_type": "markdown",
   "metadata": {},
   "source": [
    "## Third Pass"
   ]
  },
  {
   "cell_type": "code",
   "execution_count": 20,
   "metadata": {},
   "outputs": [],
   "source": [
    "feature_selectors = [\n",
    "    chain(\n",
    "        bandpass_filter(1,32),\n",
    "        add_psd(1,32)\n",
    "    ),\n",
    "    chain(\n",
    "        bandpass_filter(1,32),\n",
    "        only_psd(1,32),\n",
    "    ),\n",
    "    chain(\n",
    "        bandpass_filter(1, 40),\n",
    "        add_psd(1, 32),\n",
    "    ),\n",
    "    chain(\n",
    "        bandpass_filter(1, 40),\n",
    "        only_psd(1,32)\n",
    "    ),\n",
    "    chain(\n",
    "        bandpass_filter(1, 40),\n",
    "        add_psd(1, 40),\n",
    "    ),\n",
    "    chain(\n",
    "        bandpass_filter(1, 40),\n",
    "        only_psd(1,40)\n",
    "    )\n",
    "]\n",
    "for i in range(len(feature_selectors)):\n",
    "    oldFunc = feature_selectors[i]\n",
    "    feature_selectors[i] = chain(problem_window(0,strategy_prompt.delay), oldFunc, flatten_end)\n",
    "\n",
    "models = [LinearDiscriminantAnalysis, QuadraticDiscriminantAnalysis]\n",
    "resamplers = [None, mySMOTE, myADASYN]"
   ]
  },
  {
   "cell_type": "code",
   "execution_count": 21,
   "metadata": {
    "scrolled": true
   },
   "outputs": [
    {
     "name": "stdout",
     "output_type": "stream",
     "text": [
      "feature_selector=0,resampler=0,model=0: \tprecision=0.500, recall=0.500, f1=0.500\n",
      "New best achieved\n",
      "\n",
      "feature_selector=1,resampler=0,model=0: \tprecision=0.360, recall=0.643, f1=0.462\n",
      "\n",
      "feature_selector=2,resampler=0,model=0: \tprecision=0.471, recall=0.571, f1=0.516\n",
      "New best achieved\n",
      "\n",
      "feature_selector=3,resampler=0,model=0: \tprecision=nan, recall=0.000, f1=nan\n",
      "\n",
      "feature_selector=4,resampler=0,model=0: \tprecision=0.429, recall=0.429, f1=0.429\n",
      "\n",
      "feature_selector=5,resampler=0,model=0: \tprecision=nan, recall=0.000, f1=nan\n",
      "\n",
      "feature_selector=0,resampler=1,model=0: \tprecision=0.364, recall=0.571, f1=0.444\n",
      "\n",
      "feature_selector=1,resampler=1,model=0: \tprecision=0.391, recall=0.643, f1=0.486\n",
      "\n",
      "feature_selector=2,resampler=1,model=0: \tprecision=0.333, recall=0.571, f1=0.421\n",
      "\n",
      "feature_selector=3,resampler=1,model=0: \tprecision=0.333, recall=0.071, f1=0.118\n",
      "\n",
      "feature_selector=4,resampler=1,model=0: \tprecision=0.318, recall=0.500, f1=0.389\n",
      "\n",
      "feature_selector=5,resampler=1,model=0: \tprecision=0.333, recall=0.071, f1=0.118\n",
      "\n",
      "feature_selector=0,resampler=2,model=0: \tprecision=0.533, recall=0.571, f1=0.552\n",
      "New best achieved\n",
      "\n",
      "feature_selector=1,resampler=2,model=0: \tprecision=0.273, recall=0.214, f1=0.240\n",
      "\n",
      "feature_selector=2,resampler=2,model=0: \tprecision=0.471, recall=0.571, f1=0.516\n",
      "\n",
      "feature_selector=3,resampler=2,model=0: \tprecision=nan, recall=0.000, f1=nan\n",
      "\n",
      "feature_selector=4,resampler=2,model=0: \tprecision=0.400, recall=0.429, f1=0.414\n",
      "\n",
      "feature_selector=5,resampler=2,model=0: \tprecision=nan, recall=0.000, f1=nan\n",
      "\n",
      "feature_selector=0,resampler=0,model=1: \tprecision=0.364, recall=0.571, f1=0.444\n",
      "\n",
      "feature_selector=1,resampler=0,model=1: \tprecision=0.375, recall=0.857, f1=0.522\n",
      "\n",
      "feature_selector=2,resampler=0,model=1: \tprecision=0.364, recall=0.571, f1=0.444\n",
      "\n",
      "feature_selector=3,resampler=0,model=1: \tprecision=0.286, recall=0.143, f1=0.190\n",
      "\n",
      "feature_selector=4,resampler=0,model=1: \tprecision=0.333, recall=0.500, f1=0.400\n",
      "\n",
      "feature_selector=5,resampler=0,model=1: \tprecision=0.286, recall=0.143, f1=0.190\n",
      "\n",
      "feature_selector=0,resampler=1,model=1: \tprecision=0.533, recall=0.571, f1=0.552\n",
      "\n",
      "feature_selector=1,resampler=1,model=1: \tprecision=0.231, recall=0.214, f1=0.222\n",
      "\n",
      "feature_selector=2,resampler=1,model=1: \tprecision=0.500, recall=0.571, f1=0.533\n",
      "\n",
      "feature_selector=3,resampler=1,model=1: \tprecision=nan, recall=0.000, f1=nan\n",
      "\n",
      "feature_selector=4,resampler=1,model=1: \tprecision=0.400, recall=0.429, f1=0.414\n",
      "\n",
      "feature_selector=5,resampler=1,model=1: \tprecision=nan, recall=0.000, f1=nan\n",
      "\n",
      "feature_selector=0,resampler=2,model=1: \tprecision=0.429, recall=0.429, f1=0.429\n",
      "\n",
      "feature_selector=1,resampler=2,model=1: \tprecision=0.364, recall=0.857, f1=0.511\n",
      "\n",
      "feature_selector=2,resampler=2,model=1: \tprecision=0.400, recall=0.429, f1=0.414\n",
      "\n",
      "feature_selector=3,resampler=2,model=1: \tprecision=0.167, recall=0.071, f1=0.100\n",
      "\n",
      "feature_selector=4,resampler=2,model=1: \tprecision=0.400, recall=0.429, f1=0.414\n",
      "\n",
      "feature_selector=5,resampler=2,model=1: \tprecision=0.167, recall=0.071, f1=0.100\n",
      "\n"
     ]
    }
   ],
   "source": [
    "(inds, conf) = ml.grid_search(trX, trY, tsX, tsY, feature_selectors, resamplers, models)"
   ]
  },
  {
   "cell_type": "markdown",
   "metadata": {},
   "source": [
    "We can probably stick to using the same PSD range as the filter range without worrying about the consequences. It also doesn't seem like expanding the filter range helped much. Now what if we shrink the filter range . . ."
   ]
  },
  {
   "cell_type": "markdown",
   "metadata": {},
   "source": [
    "## Fourth Pass"
   ]
  },
  {
   "cell_type": "code",
   "execution_count": 22,
   "metadata": {},
   "outputs": [],
   "source": [
    "feature_selectors = [\n",
    "    chain(\n",
    "        bandpass_filter(1,16),\n",
    "        add_psd(1,16)\n",
    "    ),\n",
    "    chain(\n",
    "        bandpass_filter(1,16),\n",
    "        only_psd(1,16),\n",
    "    ),\n",
    "    chain(\n",
    "        bandpass_filter(1,32),\n",
    "        add_psd(1,32)\n",
    "    ),\n",
    "    chain(\n",
    "        bandpass_filter(1,32),\n",
    "        only_psd(1,32),\n",
    "    ),\n",
    "]\n",
    "for i in range(len(feature_selectors)):\n",
    "    oldFunc = feature_selectors[i]\n",
    "    feature_selectors[i] = chain(problem_window(0,strategy_prompt.delay), oldFunc, flatten_end)\n",
    "\n",
    "models = [LinearDiscriminantAnalysis, QuadraticDiscriminantAnalysis]\n",
    "resamplers = [None, mySMOTE, myADASYN]"
   ]
  },
  {
   "cell_type": "code",
   "execution_count": 23,
   "metadata": {},
   "outputs": [
    {
     "name": "stdout",
     "output_type": "stream",
     "text": [
      "feature_selector=0,resampler=0,model=0: \tprecision=0.462, recall=0.429, f1=0.444\n",
      "New best achieved\n",
      "\n",
      "feature_selector=1,resampler=0,model=0: \tprecision=0.438, recall=0.500, f1=0.467\n",
      "New best achieved\n",
      "\n",
      "feature_selector=2,resampler=0,model=0: \tprecision=0.471, recall=0.571, f1=0.516\n",
      "New best achieved\n",
      "\n",
      "feature_selector=3,resampler=0,model=0: \tprecision=nan, recall=0.000, f1=nan\n",
      "\n",
      "feature_selector=0,resampler=1,model=0: \tprecision=0.375, recall=0.429, f1=0.400\n",
      "\n",
      "feature_selector=1,resampler=1,model=0: \tprecision=nan, recall=0.000, f1=nan\n",
      "\n",
      "feature_selector=2,resampler=1,model=0: \tprecision=0.286, recall=0.429, f1=0.343\n",
      "\n",
      "feature_selector=3,resampler=1,model=0: \tprecision=0.250, recall=0.357, f1=0.294\n",
      "\n",
      "feature_selector=0,resampler=2,model=0: \tprecision=0.286, recall=0.429, f1=0.343\n",
      "\n",
      "feature_selector=1,resampler=2,model=0: \tprecision=nan, recall=0.000, f1=nan\n",
      "\n",
      "feature_selector=2,resampler=2,model=0: \tprecision=0.286, recall=0.429, f1=0.343\n",
      "\n",
      "feature_selector=3,resampler=2,model=0: \tprecision=nan, recall=0.000, f1=nan\n",
      "\n",
      "feature_selector=0,resampler=0,model=1: \tprecision=0.500, recall=0.500, f1=0.500\n",
      "\n",
      "feature_selector=1,resampler=0,model=1: \tprecision=0.360, recall=0.643, f1=0.462\n",
      "\n",
      "feature_selector=2,resampler=0,model=1: \tprecision=0.471, recall=0.571, f1=0.516\n",
      "\n",
      "feature_selector=3,resampler=0,model=1: \tprecision=nan, recall=0.000, f1=nan\n",
      "\n",
      "feature_selector=0,resampler=1,model=1: \tprecision=0.429, recall=0.429, f1=0.429\n",
      "\n",
      "feature_selector=1,resampler=1,model=1: \tprecision=nan, recall=0.000, f1=nan\n",
      "\n",
      "feature_selector=2,resampler=1,model=1: \tprecision=0.364, recall=0.571, f1=0.444\n",
      "\n",
      "feature_selector=3,resampler=1,model=1: \tprecision=0.391, recall=0.643, f1=0.486\n",
      "\n",
      "feature_selector=0,resampler=2,model=1: \tprecision=0.333, recall=0.571, f1=0.421\n",
      "\n",
      "feature_selector=1,resampler=2,model=1: \tprecision=0.333, recall=0.071, f1=0.118\n",
      "\n",
      "feature_selector=2,resampler=2,model=1: \tprecision=0.318, recall=0.500, f1=0.389\n",
      "\n",
      "feature_selector=3,resampler=2,model=1: \tprecision=0.333, recall=0.071, f1=0.118\n",
      "\n"
     ]
    }
   ],
   "source": [
    "(inds, conf) = ml.grid_search(trX, trY, tsX, tsY, feature_selectors, resamplers, models)"
   ]
  },
  {
   "cell_type": "markdown",
   "metadata": {},
   "source": [
    "## Fifth Pass"
   ]
  },
  {
   "cell_type": "code",
   "execution_count": 41,
   "metadata": {},
   "outputs": [],
   "source": [
    "feature_selectors = [\n",
    "    chain(\n",
    "        bandpass_filter(1,45),\n",
    "        add_psd_bands()\n",
    "    ),\n",
    "]\n",
    "for i in range(len(feature_selectors)):\n",
    "    oldFunc = feature_selectors[i]\n",
    "    feature_selectors[i] = chain(problem_window(0,strategy_prompt.delay), oldFunc, flatten_end)\n",
    "\n",
    "models = [LinearDiscriminantAnalysis, QuadraticDiscriminantAnalysis]\n",
    "resamplers = [None, mySMOTE, myADASYN]"
   ]
  },
  {
   "cell_type": "code",
   "execution_count": 42,
   "metadata": {},
   "outputs": [
    {
     "name": "stdout",
     "output_type": "stream",
     "text": [
      "feature_selector=0,resampler=0,model=0: \tprecision=0.467, recall=0.500, f1=0.483\n",
      "New best achieved\n",
      "\n",
      "feature_selector=0,resampler=1,model=0: \tprecision=0.348, recall=0.571, f1=0.432\n",
      "\n",
      "feature_selector=0,resampler=2,model=0: \tprecision=0.375, recall=0.429, f1=0.400\n",
      "\n",
      "feature_selector=0,resampler=0,model=1: \tprecision=nan, recall=0.000, f1=nan\n",
      "\n",
      "feature_selector=0,resampler=1,model=1: \tprecision=0.438, recall=0.500, f1=0.467\n",
      "\n",
      "feature_selector=0,resampler=2,model=1: \tprecision=nan, recall=0.000, f1=nan\n",
      "\n"
     ]
    }
   ],
   "source": [
    "(inds, conf) = ml.grid_search(trX, trY, tsX, tsY, feature_selectors, resamplers, models)"
   ]
  },
  {
   "cell_type": "code",
   "execution_count": null,
   "metadata": {},
   "outputs": [],
   "source": []
  }
 ],
 "metadata": {
  "kernelspec": {
   "display_name": "Python 3",
   "language": "python",
   "name": "python3"
  },
  "language_info": {
   "codemirror_mode": {
    "name": "ipython",
    "version": 3
   },
   "file_extension": ".py",
   "mimetype": "text/x-python",
   "name": "python",
   "nbconvert_exporter": "python",
   "pygments_lexer": "ipython3",
   "version": "3.6.9"
  }
 },
 "nbformat": 4,
 "nbformat_minor": 2
}
