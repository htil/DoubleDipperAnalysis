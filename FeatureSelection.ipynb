{
 "cells": [
  {
   "cell_type": "code",
   "execution_count": 1,
   "metadata": {},
   "outputs": [],
   "source": [
    "import warnings\n",
    "warnings.filterwarnings(\"ignore\", category= UserWarning)\n",
    "warnings.filterwarnings(\"ignore\", category= FutureWarning)\n",
    "warnings.filterwarnings(\"ignore\", category= RuntimeWarning)"
   ]
  },
  {
   "cell_type": "code",
   "execution_count": 2,
   "metadata": {},
   "outputs": [],
   "source": [
    "import mne\n",
    "mne.set_log_level(\"CRITICAL\")\n",
    "import numpy as np\n",
    "import double_dipper\n",
    "from double_dipper import dataset, constants, io, ml\n",
    "from double_dipper.constants import problem, strategy_prompt"
   ]
  },
  {
   "cell_type": "code",
   "execution_count": 3,
   "metadata": {},
   "outputs": [],
   "source": [
    "from double_dipper.features import chain, time_window, bandpass_filter, psd, psd_bands, flatten_end, dup"
   ]
  },
  {
   "cell_type": "code",
   "execution_count": 4,
   "metadata": {},
   "outputs": [],
   "source": [
    "def labeller(meta):\n",
    "    strat = meta[\"strategy\"]\n",
    "    if strat is None: return None\n",
    "    if strat.lower().startswith(\"fact\"):        return 0\n",
    "    elif strat.lower().startswith(\"procedure\"): return 1\n",
    "    else:                                       return None\n",
    "divider = lambda meta: meta[\"epoch\"]"
   ]
  },
  {
   "cell_type": "code",
   "execution_count": 5,
   "metadata": {},
   "outputs": [],
   "source": [
    "def gen_dset(subjNo, split=.7):\n",
    "    pairs = io.filePairs(f\"cleaned/main/{subjNo}\")\n",
    "    dset = io.partition(divider, labeller, pairs)\n",
    "    keys = sorted(dset.keys())\n",
    "    X = np.concatenate([dset[k][\"x\"] for k in keys], axis = 0)\n",
    "    Y = np.concatenate([dset[k][\"y\"] for k in keys], axis = 0)\n",
    "    split_ind = int(len(X) * split)\n",
    "    (trainX, testX) = (X[:split_ind], X[split_ind:])\n",
    "    (trainY, testY) = (Y[:split_ind], Y[split_ind:])\n",
    "    return (trainX, trainY, testX, testY)"
   ]
  },
  {
   "cell_type": "code",
   "execution_count": 6,
   "metadata": {},
   "outputs": [],
   "source": [
    "SUBJ_NO = 10\n",
    "(trX, trY, tsX, tsY) = gen_dset(SUBJ_NO, .66)"
   ]
  },
  {
   "cell_type": "code",
   "execution_count": 7,
   "metadata": {},
   "outputs": [],
   "source": [
    "from sklearn.discriminant_analysis import LinearDiscriminantAnalysis, QuadraticDiscriminantAnalysis"
   ]
  },
  {
   "cell_type": "code",
   "execution_count": 21,
   "metadata": {},
   "outputs": [],
   "source": [
    "from imblearn.over_sampling import ADASYN, SMOTE\n",
    "def myADASYN():\n",
    "    return ADASYN(random_state=0, n_jobs=4)\n",
    "def mySMOTE():\n",
    "    return SMOTE(random_state=0, n_jobs=4)"
   ]
  },
  {
   "cell_type": "markdown",
   "metadata": {},
   "source": [
    "## First Pass"
   ]
  },
  {
   "cell_type": "code",
   "execution_count": 22,
   "metadata": {},
   "outputs": [
    {
     "name": "stdout",
     "output_type": "stream",
     "text": [
      "model=0,resampler=0,feature_selector=0: \tprecision=0.583, recall=0.500, f1=0.538\n",
      "New best achieved\n",
      "\n",
      "model=0,resampler=0,feature_selector=1: \tprecision=0.636, recall=0.500, f1=0.560\n",
      "New best achieved\n",
      "\n",
      "model=0,resampler=0,feature_selector=2: \tprecision=0.429, recall=0.429, f1=0.429\n",
      "\n",
      "model=0,resampler=1,feature_selector=0: \tprecision=0.588, recall=0.714, f1=0.645\n",
      "New best achieved\n",
      "\n",
      "model=0,resampler=1,feature_selector=1: \tprecision=0.647, recall=0.786, f1=0.710\n",
      "New best achieved\n",
      "\n",
      "model=0,resampler=1,feature_selector=2: \tprecision=0.429, recall=0.429, f1=0.429\n",
      "\n",
      "model=0,resampler=2,feature_selector=0: \tprecision=0.556, recall=0.714, f1=0.625\n",
      "\n",
      "model=0,resampler=2,feature_selector=1: \tprecision=0.556, recall=0.714, f1=0.625\n",
      "\n",
      "model=0,resampler=2,feature_selector=2: \tprecision=0.400, recall=0.429, f1=0.414\n",
      "\n",
      "model=0,resampler=3,feature_selector=0: \tprecision=0.583, recall=0.500, f1=0.538\n",
      "\n",
      "model=0,resampler=3,feature_selector=1: \tprecision=0.636, recall=0.500, f1=0.560\n",
      "\n",
      "model=0,resampler=3,feature_selector=2: \tprecision=0.429, recall=0.429, f1=0.429\n",
      "\n",
      "model=0,resampler=4,feature_selector=0: \tprecision=0.588, recall=0.714, f1=0.645\n",
      "\n",
      "model=0,resampler=4,feature_selector=1: \tprecision=0.647, recall=0.786, f1=0.710\n",
      "\n",
      "model=0,resampler=4,feature_selector=2: \tprecision=0.429, recall=0.429, f1=0.429\n",
      "\n",
      "model=0,resampler=5,feature_selector=0: \tprecision=0.556, recall=0.714, f1=0.625\n",
      "\n",
      "model=0,resampler=5,feature_selector=1: \tprecision=0.556, recall=0.714, f1=0.625\n",
      "\n",
      "model=0,resampler=5,feature_selector=2: \tprecision=0.400, recall=0.429, f1=0.414\n",
      "\n",
      "model=1,resampler=0,feature_selector=0: \tprecision=0.444, recall=0.857, f1=0.585\n",
      "\n",
      "model=1,resampler=0,feature_selector=1: \tprecision=0.400, recall=0.286, f1=0.333\n",
      "\n",
      "model=1,resampler=0,feature_selector=2: \tprecision=0.320, recall=0.571, f1=0.410\n",
      "\n",
      "model=1,resampler=1,feature_selector=0: \tprecision=nan, recall=0.000, f1=nan\n",
      "\n",
      "model=1,resampler=1,feature_selector=1: \tprecision=nan, recall=0.000, f1=nan\n",
      "\n",
      "model=1,resampler=1,feature_selector=2: \tprecision=0.000, recall=0.000, f1=nan\n",
      "\n",
      "model=1,resampler=2,feature_selector=0: \tprecision=nan, recall=0.000, f1=nan\n",
      "\n",
      "model=1,resampler=2,feature_selector=1: \tprecision=nan, recall=0.000, f1=nan\n",
      "\n",
      "model=1,resampler=2,feature_selector=2: \tprecision=0.000, recall=0.000, f1=nan\n",
      "\n",
      "model=1,resampler=3,feature_selector=0: \tprecision=0.444, recall=0.857, f1=0.585\n",
      "\n",
      "model=1,resampler=3,feature_selector=1: \tprecision=0.400, recall=0.286, f1=0.333\n",
      "\n",
      "model=1,resampler=3,feature_selector=2: \tprecision=0.320, recall=0.571, f1=0.410\n",
      "\n",
      "model=1,resampler=4,feature_selector=0: \tprecision=nan, recall=0.000, f1=nan\n",
      "\n",
      "model=1,resampler=4,feature_selector=1: \tprecision=nan, recall=0.000, f1=nan\n",
      "\n",
      "model=1,resampler=4,feature_selector=2: \tprecision=0.000, recall=0.000, f1=nan\n",
      "\n",
      "model=1,resampler=5,feature_selector=0: \tprecision=nan, recall=0.000, f1=nan\n",
      "\n",
      "model=1,resampler=5,feature_selector=1: \tprecision=nan, recall=0.000, f1=nan\n",
      "\n",
      "model=1,resampler=5,feature_selector=2: \tprecision=0.000, recall=0.000, f1=nan\n",
      "\n"
     ]
    }
   ],
   "source": [
    "feature_selectors = [\n",
    "    bandpass_filter(1,32),\n",
    "    chain(bandpass_filter(1,32),psd(1,32, add=True)),\n",
    "    chain(bandpass_filter(1,32),psd(1,32, add=False)),\n",
    "]\n",
    "for i in range(len(feature_selectors)):\n",
    "    oldFunc = feature_selectors[i]\n",
    "    feature_selectors[i] = chain(time_window(0,strategy_prompt.delay), oldFunc, flatten_end)\n",
    "\n",
    "models = [LinearDiscriminantAnalysis, QuadraticDiscriminantAnalysis]\n",
    "resamplers = [None, mySMOTE, myADASYN] * 2\n",
    "(inds, conf) = ml.grid_search(trX, trY, tsX, tsY, feature_selectors, resamplers, models)"
   ]
  },
  {
   "cell_type": "markdown",
   "metadata": {},
   "source": [
    "The LDA seemed to generally perform better than the QDA, so we'll only look at the former for now."
   ]
  },
  {
   "cell_type": "markdown",
   "metadata": {},
   "source": [
    "## Second Pass"
   ]
  },
  {
   "cell_type": "code",
   "execution_count": 23,
   "metadata": {},
   "outputs": [
    {
     "name": "stdout",
     "output_type": "stream",
     "text": [
      "model=0,resampler=0,feature_selector=0: \tprecision=0.583, recall=0.500, f1=0.538\n",
      "New best achieved\n",
      "\n",
      "model=0,resampler=0,feature_selector=1: \tprecision=0.636, recall=0.500, f1=0.560\n",
      "New best achieved\n",
      "\n",
      "model=0,resampler=0,feature_selector=2: \tprecision=0.429, recall=0.429, f1=0.429\n",
      "\n",
      "model=0,resampler=0,feature_selector=3: \tprecision=0.636, recall=0.500, f1=0.560\n",
      "\n",
      "model=0,resampler=0,feature_selector=4: \tprecision=0.471, recall=0.571, f1=0.516\n",
      "\n",
      "model=0,resampler=1,feature_selector=0: \tprecision=0.588, recall=0.714, f1=0.645\n",
      "New best achieved\n",
      "\n",
      "model=0,resampler=1,feature_selector=1: \tprecision=0.647, recall=0.786, f1=0.710\n",
      "New best achieved\n",
      "\n",
      "model=0,resampler=1,feature_selector=2: \tprecision=0.429, recall=0.429, f1=0.429\n",
      "\n",
      "model=0,resampler=1,feature_selector=3: \tprecision=0.588, recall=0.714, f1=0.645\n",
      "\n",
      "model=0,resampler=1,feature_selector=4: \tprecision=0.500, recall=0.571, f1=0.533\n",
      "\n",
      "model=0,resampler=2,feature_selector=0: \tprecision=0.556, recall=0.714, f1=0.625\n",
      "\n",
      "model=0,resampler=2,feature_selector=1: \tprecision=0.556, recall=0.714, f1=0.625\n",
      "\n",
      "model=0,resampler=2,feature_selector=2: \tprecision=0.400, recall=0.429, f1=0.414\n",
      "\n",
      "model=0,resampler=2,feature_selector=3: \tprecision=0.556, recall=0.714, f1=0.625\n",
      "\n",
      "model=0,resampler=2,feature_selector=4: \tprecision=0.471, recall=0.571, f1=0.516\n",
      "\n",
      "model=1,resampler=0,feature_selector=0: \tprecision=0.444, recall=0.857, f1=0.585\n",
      "\n",
      "model=1,resampler=0,feature_selector=1: \tprecision=0.400, recall=0.286, f1=0.333\n",
      "\n",
      "model=1,resampler=0,feature_selector=2: \tprecision=0.320, recall=0.571, f1=0.410\n",
      "\n",
      "model=1,resampler=0,feature_selector=3: \tprecision=0.429, recall=0.429, f1=0.429\n",
      "\n",
      "model=1,resampler=0,feature_selector=4: \tprecision=0.400, recall=0.857, f1=0.545\n",
      "\n",
      "model=1,resampler=1,feature_selector=0: \tprecision=nan, recall=0.000, f1=nan\n",
      "\n",
      "model=1,resampler=1,feature_selector=1: \tprecision=nan, recall=0.000, f1=nan\n",
      "\n",
      "model=1,resampler=1,feature_selector=2: \tprecision=0.000, recall=0.000, f1=nan\n",
      "\n",
      "model=1,resampler=1,feature_selector=3: \tprecision=nan, recall=0.000, f1=nan\n",
      "\n",
      "model=1,resampler=1,feature_selector=4: \tprecision=0.400, recall=0.286, f1=0.333\n",
      "\n",
      "model=1,resampler=2,feature_selector=0: \tprecision=nan, recall=0.000, f1=nan\n",
      "\n",
      "model=1,resampler=2,feature_selector=1: \tprecision=nan, recall=0.000, f1=nan\n",
      "\n",
      "model=1,resampler=2,feature_selector=2: \tprecision=0.000, recall=0.000, f1=nan\n",
      "\n",
      "model=1,resampler=2,feature_selector=3: \tprecision=nan, recall=0.000, f1=nan\n",
      "\n",
      "model=1,resampler=2,feature_selector=4: \tprecision=0.333, recall=0.214, f1=0.261\n",
      "\n"
     ]
    }
   ],
   "source": [
    "feature_selectors = [\n",
    "    bandpass_filter(1,32),\n",
    "    chain(bandpass_filter(1,32), psd(1,32, add=True)),\n",
    "    chain(bandpass_filter(1,32), psd(1,32, add=False)),\n",
    "    chain(bandpass_filter(1,32),psd(add=True)),\n",
    "    chain(bandpass_filter(1,32),psd(add=False)),\n",
    "]\n",
    "\n",
    "for i in range(len(feature_selectors)):\n",
    "    oldFunc = feature_selectors[i]\n",
    "    feature_selectors[i] = chain(time_window(0,strategy_prompt.delay), oldFunc, flatten_end)\n",
    "\n",
    "models = [LinearDiscriminantAnalysis, QuadraticDiscriminantAnalysis]\n",
    "resamplers = [None, mySMOTE, myADASYN]\n",
    "\n",
    "(inds, conf) = ml.grid_search(trX, trY, tsX, tsY, feature_selectors, resamplers, models)"
   ]
  },
  {
   "cell_type": "markdown",
   "metadata": {},
   "source": [
    "Not restricting the PSD range doesn't make much of a difference, so going forward we restrict the range."
   ]
  },
  {
   "cell_type": "markdown",
   "metadata": {},
   "source": [
    "## Third Pass"
   ]
  },
  {
   "cell_type": "code",
   "execution_count": 19,
   "metadata": {},
   "outputs": [],
   "source": [
    "feature_selectors = [\n",
    "    chain(\n",
    "        bandpass_filter(1,32),\n",
    "        psd(1,32,add=True)\n",
    "    ),\n",
    "    chain(\n",
    "        bandpass_filter(1,32),\n",
    "        psd(1,32, add=False),\n",
    "    ),\n",
    "    chain(\n",
    "        bandpass_filter(1, 45),\n",
    "        psd(1, 32, add=True),\n",
    "    ),\n",
    "    chain(\n",
    "        bandpass_filter(1, 45),\n",
    "        psd(1,32, add=False)\n",
    "    ),\n",
    "    chain(\n",
    "        bandpass_filter(1, 45),\n",
    "        psd(1, 45, add=True),\n",
    "    ),\n",
    "    chain(\n",
    "        bandpass_filter(1, 45),\n",
    "        psd(1, 45, add=False)\n",
    "    )\n",
    "]\n",
    "for i in range(len(feature_selectors)):\n",
    "    oldFunc = feature_selectors[i]\n",
    "    feature_selectors[i] = chain(time_window(0,strategy_prompt.delay), oldFunc, flatten_end)\n",
    "\n",
    "models = [LinearDiscriminantAnalysis]\n",
    "resamplers = [None, mySMOTE, myADASYN]"
   ]
  },
  {
   "cell_type": "code",
   "execution_count": 20,
   "metadata": {
    "scrolled": true
   },
   "outputs": [
    {
     "name": "stdout",
     "output_type": "stream",
     "text": [
      "feature_selector=0,resampler=0,model=0: \tprecision=0.500, recall=0.500, f1=0.500\n",
      "New best achieved\n",
      "\n",
      "feature_selector=1,resampler=0,model=0: \tprecision=0.471, recall=0.571, f1=0.516\n",
      "New best achieved\n",
      "\n",
      "feature_selector=2,resampler=0,model=0: \tprecision=0.429, recall=0.429, f1=0.429\n",
      "\n",
      "feature_selector=3,resampler=0,model=0: \tprecision=0.364, recall=0.571, f1=0.444\n",
      "\n",
      "feature_selector=4,resampler=0,model=0: \tprecision=0.333, recall=0.571, f1=0.421\n",
      "\n",
      "feature_selector=5,resampler=0,model=0: \tprecision=0.318, recall=0.500, f1=0.389\n",
      "\n",
      "feature_selector=0,resampler=1,model=0: \tprecision=0.533, recall=0.571, f1=0.552\n",
      "New best achieved\n",
      "\n",
      "feature_selector=1,resampler=1,model=0: \tprecision=0.500, recall=0.571, f1=0.533\n",
      "\n",
      "feature_selector=2,resampler=1,model=0: \tprecision=0.400, recall=0.429, f1=0.414\n",
      "\n",
      "feature_selector=3,resampler=1,model=0: \tprecision=0.364, recall=0.571, f1=0.444\n",
      "\n",
      "feature_selector=4,resampler=1,model=0: \tprecision=0.300, recall=0.429, f1=0.353\n",
      "\n",
      "feature_selector=5,resampler=1,model=0: \tprecision=0.333, recall=0.500, f1=0.400\n",
      "\n",
      "feature_selector=0,resampler=2,model=0: \tprecision=0.533, recall=0.571, f1=0.552\n",
      "\n",
      "feature_selector=1,resampler=2,model=0: \tprecision=0.500, recall=0.571, f1=0.533\n",
      "\n",
      "feature_selector=2,resampler=2,model=0: \tprecision=0.400, recall=0.429, f1=0.414\n",
      "\n",
      "feature_selector=3,resampler=2,model=0: \tprecision=0.438, recall=0.500, f1=0.467\n",
      "\n",
      "feature_selector=4,resampler=2,model=0: \tprecision=0.389, recall=0.500, f1=0.438\n",
      "\n",
      "feature_selector=5,resampler=2,model=0: \tprecision=0.400, recall=0.571, f1=0.471\n",
      "\n"
     ]
    }
   ],
   "source": [
    "(inds, conf) = ml.grid_search(trX, trY, tsX, tsY, feature_selectors, resamplers, models)"
   ]
  },
  {
   "cell_type": "markdown",
   "metadata": {},
   "source": [
    "It looks like 1-45 Hz is more than what we need"
   ]
  },
  {
   "cell_type": "markdown",
   "metadata": {},
   "source": [
    "## Fourth Pass"
   ]
  },
  {
   "cell_type": "code",
   "execution_count": 10,
   "metadata": {},
   "outputs": [],
   "source": [
    "feature_selectors = [\n",
    "    chain(\n",
    "        bandpass_filter(1,32),\n",
    "        psd(1,32, add=True)\n",
    "    ),\n",
    "    chain(\n",
    "        bandpass_filter(1,32),\n",
    "        psd(1,32),\n",
    "    ),\n",
    "    chain(\n",
    "        bandpass_filter(1,16),\n",
    "        psd(1,16, add=True)\n",
    "    ),\n",
    "    chain(\n",
    "        bandpass_filter(1,16),\n",
    "        psd(1,16),\n",
    "    ),\n",
    "\n",
    "]\n",
    "for i in range(len(feature_selectors)):\n",
    "    oldFunc = feature_selectors[i]\n",
    "    feature_selectors[i] = chain(time_window(0,strategy_prompt.delay), oldFunc, flatten_end)\n",
    "\n",
    "models = [LinearDiscriminantAnalysis]\n",
    "resamplers = [None, mySMOTE, myADASYN]"
   ]
  },
  {
   "cell_type": "code",
   "execution_count": 11,
   "metadata": {},
   "outputs": [
    {
     "name": "stdout",
     "output_type": "stream",
     "text": [
      "feature_selector=0,resampler=0,model=0: \tprecision=0.500, recall=0.500, f1=0.500\n",
      "New best achieved\n",
      "\n",
      "feature_selector=1,resampler=0,model=0: \tprecision=0.471, recall=0.571, f1=0.516\n",
      "New best achieved\n",
      "\n",
      "feature_selector=2,resampler=0,model=0: \tprecision=0.429, recall=0.429, f1=0.429\n",
      "\n",
      "feature_selector=3,resampler=0,model=0: \tprecision=0.364, recall=0.571, f1=0.444\n",
      "\n",
      "feature_selector=0,resampler=1,model=0: \tprecision=0.333, recall=0.571, f1=0.421\n",
      "\n",
      "feature_selector=1,resampler=1,model=0: \tprecision=0.318, recall=0.500, f1=0.389\n",
      "\n",
      "feature_selector=2,resampler=1,model=0: \tprecision=0.462, recall=0.429, f1=0.444\n",
      "\n",
      "feature_selector=3,resampler=1,model=0: \tprecision=0.471, recall=0.571, f1=0.516\n",
      "\n",
      "feature_selector=0,resampler=2,model=0: \tprecision=0.375, recall=0.429, f1=0.400\n",
      "\n",
      "feature_selector=1,resampler=2,model=0: \tprecision=0.286, recall=0.429, f1=0.343\n",
      "\n",
      "feature_selector=2,resampler=2,model=0: \tprecision=0.286, recall=0.429, f1=0.343\n",
      "\n",
      "feature_selector=3,resampler=2,model=0: \tprecision=0.286, recall=0.429, f1=0.343\n",
      "\n"
     ]
    }
   ],
   "source": [
    "(inds, conf) = ml.grid_search(trX, trY, tsX, tsY, feature_selectors, resamplers, models)"
   ]
  },
  {
   "cell_type": "markdown",
   "metadata": {},
   "source": [
    "## Fifth Pass"
   ]
  },
  {
   "cell_type": "code",
   "execution_count": 12,
   "metadata": {},
   "outputs": [],
   "source": [
    "feature_selectors = [\n",
    "    chain(\n",
    "        bandpass_filter(1,32),\n",
    "        psd(1,32, add=True)\n",
    "    ),\n",
    "    chain(\n",
    "        bandpass_filter(1,32),\n",
    "        psd(1,32, add=False)\n",
    "    ),\n",
    "    chain(\n",
    "        bandpass_filter(1,45),\n",
    "        dup(psd(1,45), psd_bands(), add=True)\n",
    "    ),\n",
    "    chain(\n",
    "        bandpass_filter(1,45),\n",
    "        dup(psd(1,45), psd_bands(), add=False)\n",
    "    ),\n",
    "]\n",
    "for i in range(len(feature_selectors)):\n",
    "    oldFunc = feature_selectors[i]\n",
    "    feature_selectors[i] = chain(time_window(0,strategy_prompt.delay), oldFunc, flatten_end)\n",
    "\n",
    "models = [LinearDiscriminantAnalysis]\n",
    "resamplers = [None, mySMOTE, myADASYN]"
   ]
  },
  {
   "cell_type": "code",
   "execution_count": 13,
   "metadata": {},
   "outputs": [
    {
     "name": "stdout",
     "output_type": "stream",
     "text": [
      "feature_selector=0,resampler=0,model=0: \tprecision=0.500, recall=0.500, f1=0.500\n",
      "New best achieved\n",
      "\n",
      "feature_selector=1,resampler=0,model=0: \tprecision=0.471, recall=0.571, f1=0.516\n",
      "New best achieved\n",
      "\n",
      "feature_selector=2,resampler=0,model=0: \tprecision=0.429, recall=0.429, f1=0.429\n",
      "\n",
      "feature_selector=3,resampler=0,model=0: \tprecision=0.364, recall=0.571, f1=0.444\n",
      "\n",
      "feature_selector=0,resampler=1,model=0: \tprecision=0.333, recall=0.571, f1=0.421\n",
      "\n",
      "feature_selector=1,resampler=1,model=0: \tprecision=0.318, recall=0.500, f1=0.389\n",
      "\n",
      "feature_selector=2,resampler=1,model=0: \tprecision=0.533, recall=0.571, f1=0.552\n",
      "New best achieved\n",
      "\n",
      "feature_selector=3,resampler=1,model=0: \tprecision=0.500, recall=0.571, f1=0.533\n",
      "\n",
      "feature_selector=0,resampler=2,model=0: \tprecision=0.400, recall=0.429, f1=0.414\n",
      "\n",
      "feature_selector=1,resampler=2,model=0: \tprecision=0.438, recall=0.500, f1=0.467\n",
      "\n",
      "feature_selector=2,resampler=2,model=0: \tprecision=0.389, recall=0.500, f1=0.438\n",
      "\n",
      "feature_selector=3,resampler=2,model=0: \tprecision=0.400, recall=0.571, f1=0.471\n",
      "\n"
     ]
    }
   ],
   "source": [
    "(inds, conf) = ml.grid_search(trX, trY, tsX, tsY, feature_selectors, resamplers, models)"
   ]
  },
  {
   "cell_type": "code",
   "execution_count": null,
   "metadata": {},
   "outputs": [],
   "source": []
  }
 ],
 "metadata": {
  "kernelspec": {
   "display_name": "Python 3",
   "language": "python",
   "name": "python3"
  },
  "language_info": {
   "codemirror_mode": {
    "name": "ipython",
    "version": 3
   },
   "file_extension": ".py",
   "mimetype": "text/x-python",
   "name": "python",
   "nbconvert_exporter": "python",
   "pygments_lexer": "ipython3",
   "version": "3.6.9"
  }
 },
 "nbformat": 4,
 "nbformat_minor": 2
}
