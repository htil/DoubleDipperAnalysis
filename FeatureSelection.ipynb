{
 "cells": [
  {
   "cell_type": "code",
   "execution_count": 1,
   "metadata": {},
   "outputs": [],
   "source": [
    "import warnings\n",
    "warnings.filterwarnings(\"ignore\", category= UserWarning)\n",
    "warnings.filterwarnings(\"ignore\", category= FutureWarning)\n",
    "warnings.filterwarnings(\"ignore\", category= RuntimeWarning)"
   ]
  },
  {
   "cell_type": "code",
   "execution_count": 2,
   "metadata": {},
   "outputs": [],
   "source": [
    "import mne\n",
    "mne.set_log_level(\"CRITICAL\")\n",
    "import numpy as np\n",
    "import double_dipper\n",
    "from double_dipper import dataset, constants, io, ml\n",
    "from double_dipper.constants import problem, strategy_prompt"
   ]
  },
  {
   "cell_type": "code",
   "execution_count": 3,
   "metadata": {},
   "outputs": [],
   "source": [
    "from double_dipper.features import chain, time_window, bandpass_filter, psd, psd_bands, flatten_end, dup"
   ]
  },
  {
   "cell_type": "code",
   "execution_count": 4,
   "metadata": {},
   "outputs": [],
   "source": [
    "def labeller(meta):\n",
    "    strat = meta[\"strategy\"]\n",
    "    if strat is None: return None\n",
    "    if strat.lower().startswith(\"fact\"):        return 0\n",
    "    elif strat.lower().startswith(\"procedure\"): return 1\n",
    "    else:                                       return None\n",
    "divider = lambda meta: meta[\"epoch\"]"
   ]
  },
  {
   "cell_type": "code",
   "execution_count": 5,
   "metadata": {},
   "outputs": [],
   "source": [
    "def gen_dset(subjNo, split=.7):\n",
    "    pairs = io.filePairs(f\"cleaned/main/{subjNo}\")\n",
    "    dset = io.partition(divider, labeller, pairs)\n",
    "    keys = sorted(dset.keys())\n",
    "    X = np.concatenate([dset[k][\"x\"] for k in keys], axis = 0)\n",
    "    Y = np.concatenate([dset[k][\"y\"] for k in keys], axis = 0)\n",
    "    split_ind = int(len(X) * split)\n",
    "    (trainX, testX) = (X[:split_ind], X[split_ind:])\n",
    "    (trainY, testY) = (Y[:split_ind], Y[split_ind:])\n",
    "    return (trainX, trainY, testX, testY)"
   ]
  },
  {
   "cell_type": "code",
   "execution_count": 6,
   "metadata": {},
   "outputs": [],
   "source": [
    "SUBJ_NO = 10\n",
    "(trX, trY, tsX, tsY) = gen_dset(SUBJ_NO, .66)"
   ]
  },
  {
   "cell_type": "code",
   "execution_count": 7,
   "metadata": {},
   "outputs": [],
   "source": [
    "from sklearn.discriminant_analysis import LinearDiscriminantAnalysis, QuadraticDiscriminantAnalysis"
   ]
  },
  {
   "cell_type": "code",
   "execution_count": 8,
   "metadata": {},
   "outputs": [],
   "source": [
    "from imblearn.over_sampling import ADASYN, SMOTE\n",
    "def myADASYN():\n",
    "    return ADASYN(random_state=0, n_jobs=4)\n",
    "def mySMOTE():\n",
    "    return SMOTE(random_state=0, n_jobs=4)"
   ]
  },
  {
   "cell_type": "markdown",
   "metadata": {},
   "source": [
    "## First Pass"
   ]
  },
  {
   "cell_type": "code",
   "execution_count": 9,
   "metadata": {},
   "outputs": [
    {
     "name": "stdout",
     "output_type": "stream",
     "text": [
      "model=0,resampler=0,feature_selector=0: \tprecision=0.583, recall=0.500, f1=0.538\n",
      "New best achieved\n",
      "\n",
      "model=0,resampler=0,feature_selector=1: \tprecision=0.636, recall=0.500, f1=0.560\n",
      "New best achieved\n",
      "\n",
      "model=0,resampler=0,feature_selector=2: \tprecision=0.429, recall=0.429, f1=0.429\n",
      "\n",
      "model=0,resampler=1,feature_selector=0: \tprecision=0.588, recall=0.714, f1=0.645\n",
      "New best achieved\n",
      "\n",
      "model=0,resampler=1,feature_selector=1: \tprecision=0.647, recall=0.786, f1=0.710\n",
      "New best achieved\n",
      "\n",
      "model=0,resampler=1,feature_selector=2: \tprecision=0.429, recall=0.429, f1=0.429\n",
      "\n",
      "model=0,resampler=2,feature_selector=0: \tprecision=0.556, recall=0.714, f1=0.625\n",
      "\n",
      "model=0,resampler=2,feature_selector=1: \tprecision=0.556, recall=0.714, f1=0.625\n",
      "\n",
      "model=0,resampler=2,feature_selector=2: \tprecision=0.400, recall=0.429, f1=0.414\n",
      "\n",
      "model=1,resampler=0,feature_selector=0: \tprecision=0.444, recall=0.857, f1=0.585\n",
      "\n",
      "model=1,resampler=0,feature_selector=1: \tprecision=0.400, recall=0.286, f1=0.333\n",
      "\n",
      "model=1,resampler=0,feature_selector=2: \tprecision=0.320, recall=0.571, f1=0.410\n",
      "\n",
      "model=1,resampler=1,feature_selector=0: \tprecision=nan, recall=0.000, f1=nan\n",
      "\n",
      "model=1,resampler=1,feature_selector=1: \tprecision=nan, recall=0.000, f1=nan\n",
      "\n",
      "model=1,resampler=1,feature_selector=2: \tprecision=0.000, recall=0.000, f1=nan\n",
      "\n",
      "model=1,resampler=2,feature_selector=0: \tprecision=nan, recall=0.000, f1=nan\n",
      "\n",
      "model=1,resampler=2,feature_selector=1: \tprecision=nan, recall=0.000, f1=nan\n",
      "\n",
      "model=1,resampler=2,feature_selector=2: \tprecision=0.000, recall=0.000, f1=nan\n",
      "\n"
     ]
    }
   ],
   "source": [
    "feature_selectors = [\n",
    "    bandpass_filter(1,32),\n",
    "    chain(bandpass_filter(1,32),psd(1,32, add=True)),\n",
    "    chain(bandpass_filter(1,32),psd(1,32, add=False)),\n",
    "]\n",
    "for i in range(len(feature_selectors)):\n",
    "    oldFunc = feature_selectors[i]\n",
    "    feature_selectors[i] = chain(time_window(0,strategy_prompt.delay), oldFunc, flatten_end)\n",
    "\n",
    "models = [LinearDiscriminantAnalysis, QuadraticDiscriminantAnalysis]\n",
    "resamplers = [None, mySMOTE, myADASYN]\n",
    "(inds, conf) = ml.grid_search(trX, trY, tsX, tsY, feature_selectors, resamplers, models)"
   ]
  },
  {
   "cell_type": "markdown",
   "metadata": {},
   "source": [
    "The LDA seemed to generally perform better than the QDA, so we'll only look at the former for now."
   ]
  },
  {
   "cell_type": "markdown",
   "metadata": {},
   "source": [
    "## Second Pass"
   ]
  },
  {
   "cell_type": "code",
   "execution_count": 10,
   "metadata": {},
   "outputs": [
    {
     "name": "stdout",
     "output_type": "stream",
     "text": [
      "model=0,resampler=0,feature_selector=0: \tprecision=0.583, recall=0.500, f1=0.538\n",
      "New best achieved\n",
      "\n",
      "model=0,resampler=0,feature_selector=1: \tprecision=0.636, recall=0.500, f1=0.560\n",
      "New best achieved\n",
      "\n",
      "model=0,resampler=0,feature_selector=2: \tprecision=0.429, recall=0.429, f1=0.429\n",
      "\n",
      "model=0,resampler=0,feature_selector=3: \tprecision=0.636, recall=0.500, f1=0.560\n",
      "\n",
      "model=0,resampler=0,feature_selector=4: \tprecision=0.471, recall=0.571, f1=0.516\n",
      "\n",
      "model=0,resampler=1,feature_selector=0: \tprecision=0.588, recall=0.714, f1=0.645\n",
      "New best achieved\n",
      "\n",
      "model=0,resampler=1,feature_selector=1: \tprecision=0.647, recall=0.786, f1=0.710\n",
      "New best achieved\n",
      "\n",
      "model=0,resampler=1,feature_selector=2: \tprecision=0.429, recall=0.429, f1=0.429\n",
      "\n",
      "model=0,resampler=1,feature_selector=3: \tprecision=0.588, recall=0.714, f1=0.645\n",
      "\n",
      "model=0,resampler=1,feature_selector=4: \tprecision=0.500, recall=0.571, f1=0.533\n",
      "\n",
      "model=0,resampler=2,feature_selector=0: \tprecision=0.556, recall=0.714, f1=0.625\n",
      "\n",
      "model=0,resampler=2,feature_selector=1: \tprecision=0.556, recall=0.714, f1=0.625\n",
      "\n",
      "model=0,resampler=2,feature_selector=2: \tprecision=0.400, recall=0.429, f1=0.414\n",
      "\n",
      "model=0,resampler=2,feature_selector=3: \tprecision=0.556, recall=0.714, f1=0.625\n",
      "\n",
      "model=0,resampler=2,feature_selector=4: \tprecision=0.471, recall=0.571, f1=0.516\n",
      "\n"
     ]
    }
   ],
   "source": [
    "feature_selectors = [\n",
    "    bandpass_filter(1,32),\n",
    "    chain(bandpass_filter(1,32), psd(1,32, add=True)),\n",
    "    chain(bandpass_filter(1,32), psd(1,32, add=False)),\n",
    "    chain(bandpass_filter(1,32),psd(add=True)),\n",
    "    chain(bandpass_filter(1,32),psd(add=False)),\n",
    "]\n",
    "\n",
    "for i in range(len(feature_selectors)):\n",
    "    oldFunc = feature_selectors[i]\n",
    "    feature_selectors[i] = chain(time_window(0,strategy_prompt.delay), oldFunc, flatten_end)\n",
    "\n",
    "models = [LinearDiscriminantAnalysis]\n",
    "resamplers = [None, mySMOTE, myADASYN]\n",
    "\n",
    "(inds, conf) = ml.grid_search(trX, trY, tsX, tsY, feature_selectors, resamplers, models)"
   ]
  },
  {
   "cell_type": "markdown",
   "metadata": {},
   "source": [
    "Not restricting the PSD range doesn't make much of a difference, so going forward we restrict the range."
   ]
  },
  {
   "cell_type": "markdown",
   "metadata": {},
   "source": [
    "## Third Pass"
   ]
  },
  {
   "cell_type": "code",
   "execution_count": 12,
   "metadata": {},
   "outputs": [],
   "source": [
    "feature_selectors = [\n",
    "    chain(\n",
    "        bandpass_filter(1,32),\n",
    "        psd(1,32,add=True)\n",
    "    ),\n",
    "    chain(\n",
    "        bandpass_filter(1,32),\n",
    "        psd(1,32, add=False),\n",
    "    ),\n",
    "    chain(\n",
    "        bandpass_filter(1, 45),\n",
    "        psd(1, 32, add=True),\n",
    "    ),\n",
    "    chain(\n",
    "        bandpass_filter(1, 45),\n",
    "        psd(1,32, add=False)\n",
    "    ),\n",
    "    chain(\n",
    "        bandpass_filter(1, 45),\n",
    "        psd(1, 45, add=True),\n",
    "    ),\n",
    "    chain(\n",
    "        bandpass_filter(1, 45),\n",
    "        psd(1, 45, add=False)\n",
    "    )\n",
    "]\n",
    "for i in range(len(feature_selectors)):\n",
    "    oldFunc = feature_selectors[i]\n",
    "    feature_selectors[i] = chain(time_window(0,strategy_prompt.delay), oldFunc, flatten_end)\n",
    "\n",
    "models = [LinearDiscriminantAnalysis]\n",
    "resamplers = [None, mySMOTE, myADASYN]"
   ]
  },
  {
   "cell_type": "code",
   "execution_count": 13,
   "metadata": {
    "scrolled": true
   },
   "outputs": [
    {
     "name": "stdout",
     "output_type": "stream",
     "text": [
      "model=0,resampler=0,feature_selector=0: \tprecision=0.636, recall=0.500, f1=0.560\n",
      "New best achieved\n",
      "\n",
      "model=0,resampler=0,feature_selector=1: \tprecision=0.429, recall=0.429, f1=0.429\n",
      "\n",
      "model=0,resampler=0,feature_selector=2: \tprecision=0.636, recall=0.500, f1=0.560\n",
      "\n",
      "model=0,resampler=0,feature_selector=3: \tprecision=0.429, recall=0.429, f1=0.429\n",
      "\n",
      "model=0,resampler=0,feature_selector=4: \tprecision=0.636, recall=0.500, f1=0.560\n",
      "\n",
      "model=0,resampler=0,feature_selector=5: \tprecision=0.583, recall=0.500, f1=0.538\n",
      "\n",
      "model=0,resampler=1,feature_selector=0: \tprecision=0.647, recall=0.786, f1=0.710\n",
      "New best achieved\n",
      "\n",
      "model=0,resampler=1,feature_selector=1: \tprecision=0.429, recall=0.429, f1=0.429\n",
      "\n",
      "model=0,resampler=1,feature_selector=2: \tprecision=0.647, recall=0.786, f1=0.710\n",
      "\n",
      "model=0,resampler=1,feature_selector=3: \tprecision=0.429, recall=0.429, f1=0.429\n",
      "\n",
      "model=0,resampler=1,feature_selector=4: \tprecision=0.688, recall=0.786, f1=0.733\n",
      "New best achieved\n",
      "\n",
      "model=0,resampler=1,feature_selector=5: \tprecision=0.538, recall=0.500, f1=0.519\n",
      "\n",
      "model=0,resampler=2,feature_selector=0: \tprecision=0.556, recall=0.714, f1=0.625\n",
      "\n",
      "model=0,resampler=2,feature_selector=1: \tprecision=0.400, recall=0.429, f1=0.414\n",
      "\n",
      "model=0,resampler=2,feature_selector=2: \tprecision=0.556, recall=0.714, f1=0.625\n",
      "\n",
      "model=0,resampler=2,feature_selector=3: \tprecision=0.400, recall=0.429, f1=0.414\n",
      "\n",
      "model=0,resampler=2,feature_selector=4: \tprecision=0.556, recall=0.714, f1=0.625\n",
      "\n",
      "model=0,resampler=2,feature_selector=5: \tprecision=0.500, recall=0.500, f1=0.500\n",
      "\n"
     ]
    }
   ],
   "source": [
    "(inds, conf) = ml.grid_search(trX, trY, tsX, tsY, feature_selectors, resamplers, models)"
   ]
  },
  {
   "cell_type": "markdown",
   "metadata": {},
   "source": [
    "Across the sampling strategies, temporal + frequency feature selectors (the even-numbered ones) did better than those with just frequency data (the odd-numbered ones). Going forward, we always include temporal data.\n",
    "\n",
    "Additionally, thus far it appears SMOTE performs slightly better than ADASYN, so we remove that latter. Resampling in general seems to improve performance, so going forward we only use SMOTE."
   ]
  },
  {
   "cell_type": "markdown",
   "metadata": {},
   "source": [
    "## Fourth Pass"
   ]
  },
  {
   "cell_type": "code",
   "execution_count": 14,
   "metadata": {},
   "outputs": [],
   "source": [
    "feature_selectors = [\n",
    "    chain(bandpass_filter(1,32),psd(1,32, add=True)),\n",
    "    chain(bandpass_filter(1,45),psd(1,45, add=True)),\n",
    "    chain(\n",
    "        bandpass_filter(1,32),\n",
    "        dup(psd(1,32), psd_bands(), add=True)\n",
    "    ),\n",
    "    chain(\n",
    "        bandpass_filter(1,45),\n",
    "        dup(psd(1,45), psd_bands(), add=True)\n",
    "    ),\n",
    "]\n",
    "for i in range(len(feature_selectors)):\n",
    "    oldFunc = feature_selectors[i]\n",
    "    feature_selectors[i] = chain(time_window(0,strategy_prompt.delay), oldFunc, flatten_end)\n",
    "\n",
    "models = [LinearDiscriminantAnalysis]\n",
    "resamplers = [mySMOTE]"
   ]
  },
  {
   "cell_type": "code",
   "execution_count": 15,
   "metadata": {},
   "outputs": [
    {
     "name": "stdout",
     "output_type": "stream",
     "text": [
      "model=0,resampler=0,feature_selector=0: \tprecision=0.647, recall=0.786, f1=0.710\n",
      "New best achieved\n",
      "\n",
      "model=0,resampler=0,feature_selector=1: \tprecision=0.688, recall=0.786, f1=0.733\n",
      "New best achieved\n",
      "\n",
      "model=0,resampler=0,feature_selector=2: \tprecision=0.647, recall=0.786, f1=0.710\n",
      "\n",
      "model=0,resampler=0,feature_selector=3: \tprecision=0.688, recall=0.786, f1=0.733\n",
      "\n"
     ]
    }
   ],
   "source": [
    "(inds, conf) = ml.grid_search(trX, trY, tsX, tsY, feature_selectors, resamplers, models)"
   ]
  },
  {
   "cell_type": "code",
   "execution_count": null,
   "metadata": {},
   "outputs": [],
   "source": []
  }
 ],
 "metadata": {
  "kernelspec": {
   "display_name": "Python 3",
   "language": "python",
   "name": "python3"
  },
  "language_info": {
   "codemirror_mode": {
    "name": "ipython",
    "version": 3
   },
   "file_extension": ".py",
   "mimetype": "text/x-python",
   "name": "python",
   "nbconvert_exporter": "python",
   "pygments_lexer": "ipython3",
   "version": "3.6.9"
  }
 },
 "nbformat": 4,
 "nbformat_minor": 2
}
