{
 "cells": [
  {
   "cell_type": "code",
   "execution_count": 1,
   "metadata": {},
   "outputs": [],
   "source": [
    "import mne\n",
    "import json\n",
    "import os\n",
    "import ddUtils"
   ]
  },
  {
   "cell_type": "code",
   "execution_count": 2,
   "metadata": {},
   "outputs": [],
   "source": [
    "dataDir = os.path.join(\"raw\",\"practice\")\n",
    "paths = [os.path.join(dataDir,f\"practice{i}.json\") for i in range(1,11+1)]"
   ]
  },
  {
   "cell_type": "code",
   "execution_count": 3,
   "metadata": {},
   "outputs": [
    {
     "name": "stdout",
     "output_type": "stream",
     "text": [
      "[[ 995.23809524  854.21245421  848.16849817  831.64835165]\n",
      " [ 994.02930403  856.22710623  847.36263736  848.57142857]\n",
      " [1000.87912088  853.003663    848.57142857  863.07692308]\n",
      " ...\n",
      " [ 855.82417582  828.42490842  815.53113553  859.85347985]\n",
      " [ 850.98901099  831.64835165  809.89010989  861.06227106]\n",
      " [ 849.78021978  840.10989011  814.32234432  858.64468864]]\n",
      "10 matching events found\n",
      "No baseline correction applied\n",
      "Not setting metadata\n",
      "0 projection items activated\n",
      "0 bad epochs dropped\n"
     ]
    },
    {
     "name": "stderr",
     "output_type": "stream",
     "text": [
      "Obtaining 10 epochs\n"
     ]
    },
    {
     "name": "stdout",
     "output_type": "stream",
     "text": [
      "[[857.03296703 852.6007326  859.85347985 846.55677656]\n",
      " [847.36263736 848.97435897 857.03296703 848.57142857]\n",
      " [837.69230769 848.97435897 858.24175824 833.66300366]\n",
      " ...\n",
      " [850.18315018 850.18315018 854.61538462 850.18315018]\n",
      " [850.18315018 850.18315018 854.61538462 850.18315018]\n",
      " [850.18315018 850.18315018 854.61538462 850.18315018]]\n",
      "10 matching events found\n",
      "No baseline correction applied\n",
      "Not setting metadata\n",
      "0 projection items activated\n",
      "0 bad epochs dropped\n"
     ]
    },
    {
     "name": "stderr",
     "output_type": "stream",
     "text": [
      "Obtaining 10 epochs\n"
     ]
    },
    {
     "name": "stdout",
     "output_type": "stream",
     "text": [
      "[[824.7985348  859.45054945 865.49450549 836.88644689]\n",
      " [837.28937729 858.64468864 871.13553114 842.52747253]\n",
      " [835.67765568 857.83882784 867.50915751 846.55677656]\n",
      " ...\n",
      " [841.72161172 852.6007326  851.79487179 846.15384615]\n",
      " [846.95970696 857.03296703 851.79487179 854.21245421]\n",
      " [841.72161172 857.83882784 857.43589744 864.68864469]]\n",
      "10 matching events found\n",
      "No baseline correction applied\n",
      "Not setting metadata\n",
      "0 projection items activated\n",
      "0 bad epochs dropped\n"
     ]
    },
    {
     "name": "stderr",
     "output_type": "stream",
     "text": [
      "Obtaining 10 epochs\n"
     ]
    },
    {
     "name": "stdout",
     "output_type": "stream",
     "text": [
      "[[788.53479853 853.40659341 819.15750916 861.06227106]\n",
      " [802.63736264 859.04761905 826.41025641 863.47985348]\n",
      " [805.86080586 865.8974359  828.82783883 871.13553114]\n",
      " ...\n",
      " [853.40659341 855.01831502 847.76556777 839.3040293 ]\n",
      " [853.40659341 855.01831502 847.76556777 839.3040293 ]\n",
      " [853.40659341 855.01831502 847.76556777 839.3040293 ]]\n",
      "10 matching events found\n",
      "No baseline correction applied\n",
      "Not setting metadata\n",
      "0 projection items activated\n",
      "0 bad epochs dropped\n"
     ]
    },
    {
     "name": "stderr",
     "output_type": "stream",
     "text": [
      "Obtaining 10 epochs\n"
     ]
    },
    {
     "name": "stdout",
     "output_type": "stream",
     "text": [
      "[[868.31501832 849.78021978 853.40659341 870.73260073]\n",
      " [840.10989011 852.1978022  851.79487179 861.46520147]\n",
      " [832.45421245 853.40659341 853.003663   856.63003663]\n",
      " ...\n",
      " [851.79487179  22.56410256 843.73626374 831.64835165]\n",
      " [848.16849817  22.56410256 844.94505495 846.15384615]\n",
      " [858.64468864  22.56410256 842.52747253 847.36263736]]\n",
      "10 matching events found\n",
      "No baseline correction applied\n",
      "Not setting metadata\n",
      "0 projection items activated\n",
      "0 bad epochs dropped\n"
     ]
    },
    {
     "name": "stderr",
     "output_type": "stream",
     "text": [
      "Obtaining 10 epochs\n"
     ]
    },
    {
     "name": "stdout",
     "output_type": "stream",
     "text": [
      "[[866.7032967  868.71794872 864.28571429 829.23076923]\n",
      " [856.22710623 870.73260073 863.47985348 850.98901099]\n",
      " [851.79487179 867.50915751 865.49450549 865.49450549]\n",
      " ...\n",
      " [833.26007326 844.13919414 827.21611722 852.6007326 ]\n",
      " [842.93040293 845.75091575 827.21611722 832.45421245]\n",
      " [839.70695971 845.34798535 830.43956044 840.51282051]]\n",
      "10 matching events found\n",
      "No baseline correction applied\n",
      "Not setting metadata\n",
      "0 projection items activated\n",
      "0 bad epochs dropped\n"
     ]
    },
    {
     "name": "stderr",
     "output_type": "stream",
     "text": [
      "Obtaining 10 epochs\n"
     ]
    },
    {
     "name": "stdout",
     "output_type": "stream",
     "text": [
      "[[820.76923077 772.82051282 880.80586081 884.83516484]\n",
      " [817.54578755 776.84981685 871.13553114 904.17582418]\n",
      " [809.48717949 749.04761905 867.50915751 911.42857143]\n",
      " ...\n",
      " [867.91208791 947.28937729 809.89010989 872.34432234]\n",
      " [867.91208791 947.28937729 809.89010989 872.34432234]\n",
      " [867.91208791 947.28937729 809.89010989 872.34432234]]\n",
      "10 matching events found\n",
      "No baseline correction applied\n",
      "Not setting metadata\n",
      "0 projection items activated\n",
      "0 bad epochs dropped\n"
     ]
    },
    {
     "name": "stderr",
     "output_type": "stream",
     "text": [
      "Obtaining 10 epochs\n"
     ]
    },
    {
     "name": "stdout",
     "output_type": "stream",
     "text": [
      "[[894.50549451 864.28571429 860.65934066 879.5970696 ]\n",
      " [853.003663   864.28571429 866.7032967  898.13186813]\n",
      " [849.78021978 862.27106227 872.74725275 902.56410256]\n",
      " ...\n",
      " [836.48351648 849.78021978 830.84249084 834.87179487]\n",
      " [831.24542125 848.16849817 834.87179487 837.28937729]\n",
      " [834.46886447 845.34798535 838.4981685  831.24542125]]\n",
      "10 matching events found\n",
      "No baseline correction applied\n",
      "Not setting metadata\n",
      "0 projection items activated\n",
      "0 bad epochs dropped\n"
     ]
    },
    {
     "name": "stderr",
     "output_type": "stream",
     "text": [
      "Obtaining 10 epochs\n"
     ]
    },
    {
     "name": "stdout",
     "output_type": "stream",
     "text": [
      "[[724.46886447 784.90842491 848.16849817 718.42490842]\n",
      " [732.52747253 792.16117216 852.1978022  733.73626374]\n",
      " [739.78021978 794.98168498 865.09157509 747.43589744]\n",
      " ...\n",
      " [838.9010989  841.72161172 853.80952381 847.76556777]\n",
      " [838.9010989  841.72161172 853.80952381 847.76556777]\n",
      " [838.9010989  841.72161172 853.80952381 847.76556777]]\n",
      "10 matching events found\n",
      "No baseline correction applied\n",
      "Not setting metadata\n",
      "0 projection items activated\n",
      "0 bad epochs dropped\n"
     ]
    },
    {
     "name": "stderr",
     "output_type": "stream",
     "text": [
      "Obtaining 10 epochs\n"
     ]
    },
    {
     "name": "stdout",
     "output_type": "stream",
     "text": [
      "[[788.53479853 868.31501832 867.10622711 904.17582418]\n",
      " [763.15018315 871.53846154 863.07692308 925.93406593]\n",
      " [688.20512821 856.22710623 852.6007326  924.32234432]\n",
      " ...\n",
      " [867.10622711 836.88644689 844.54212454 865.8974359 ]\n",
      " [867.10622711 836.88644689 844.54212454 865.8974359 ]\n",
      " [867.10622711 836.88644689 844.54212454 865.8974359 ]]\n",
      "10 matching events found\n",
      "No baseline correction applied\n",
      "Not setting metadata\n",
      "0 projection items activated\n",
      "0 bad epochs dropped\n"
     ]
    },
    {
     "name": "stderr",
     "output_type": "stream",
     "text": [
      "Obtaining 10 epochs\n"
     ]
    },
    {
     "name": "stdout",
     "output_type": "stream",
     "text": [
      "[[ 697.47252747  550.80586081 1650.          684.98168498]\n",
      " [ 689.81684982  462.56410256 1650.          656.37362637]\n",
      " [ 691.42857143  660.80586081 1650.          644.28571429]\n",
      " ...\n",
      " [ 830.84249084   22.56410256  547.98534799  832.45421245]\n",
      " [ 833.26007326   22.56410256  529.45054945  840.91575092]\n",
      " [ 832.05128205   22.56410256  438.79120879  843.33333333]]\n",
      "10 matching events found\n",
      "No baseline correction applied\n",
      "Not setting metadata\n",
      "0 projection items activated\n",
      "0 bad epochs dropped\n",
      "110 matching events found\n",
      "No baseline correction applied\n",
      "Not setting metadata\n",
      "0 bad epochs dropped\n"
     ]
    },
    {
     "name": "stderr",
     "output_type": "stream",
     "text": [
      "Obtaining 10 epochs\n"
     ]
    }
   ],
   "source": [
    "subjEpochs = []\n",
    "for jsonPath in paths:\n",
    "    with open(jsonPath, \"r\") as r: data = json.load(r)\n",
    "    subjEpochs.append(ddUtils.contigEpochs(data, 22))\n",
    "epochs = mne.concatenate_epochs([epoch for epoch in subjEpochs if len(epoch) > 0])"
   ]
  },
  {
   "cell_type": "code",
   "execution_count": null,
   "metadata": {},
   "outputs": [],
   "source": [
    "%matplotlib inline\n",
    "epochs.plot_image()"
   ]
  },
  {
   "cell_type": "code",
   "execution_count": 17,
   "metadata": {},
   "outputs": [],
   "source": [
    "import numpy as np\n",
    "import matplotlib.pyplot as plt\n",
    "def plotOneEpoch(epoch):\n",
    "    eegArray = epoch * 1e6\n",
    "    time = np.arange(eegArray.shape[-1]) / 22\n",
    "    for row in eegArray:\n",
    "        plt.plot(time, row)\n",
    "        #plt.xticks(time)\n",
    "    plt.show()"
   ]
  },
  {
   "cell_type": "code",
   "execution_count": null,
   "metadata": {},
   "outputs": [],
   "source": [
    "for epoch in epochs[:10]:\n",
    "    plotOneEpoch(epoch)\n",
    "    print(type(epoch))"
   ]
  },
  {
   "cell_type": "code",
   "execution_count": null,
   "metadata": {},
   "outputs": [],
   "source": [
    "for epoch in epochs[50:60]:\n",
    "    plotOneEpoch(epoch)"
   ]
  },
  {
   "cell_type": "code",
   "execution_count": null,
   "metadata": {},
   "outputs": [],
   "source": []
  }
 ],
 "metadata": {
  "kernelspec": {
   "display_name": "Python 3",
   "language": "python",
   "name": "python3"
  },
  "language_info": {
   "codemirror_mode": {
    "name": "ipython",
    "version": 3
   },
   "file_extension": ".py",
   "mimetype": "text/x-python",
   "name": "python",
   "nbconvert_exporter": "python",
   "pygments_lexer": "ipython3",
   "version": "3.6.8"
  }
 },
 "nbformat": 4,
 "nbformat_minor": 2
}
